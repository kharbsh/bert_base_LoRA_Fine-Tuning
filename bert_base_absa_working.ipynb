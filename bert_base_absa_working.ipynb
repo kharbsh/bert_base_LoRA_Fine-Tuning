{
  "cells": [
    {
      "cell_type": "code",
      "execution_count": 1,
      "metadata": {
        "_cell_guid": "53608efb-d06a-4456-a65e-080d9bb5081b",
        "_uuid": "84fe2128-d661-44fb-8711-a5abc9c7f9a8",
        "collapsed": true,
        "execution": {
          "iopub.execute_input": "2025-05-09T03:53:20.133240Z",
          "iopub.status.busy": "2025-05-09T03:53:20.132952Z",
          "iopub.status.idle": "2025-05-09T03:53:23.383162Z",
          "shell.execute_reply": "2025-05-09T03:53:23.381991Z",
          "shell.execute_reply.started": "2025-05-09T03:53:20.133216Z"
        },
        "jupyter": {
          "outputs_hidden": false
        },
        "trusted": true,
        "colab": {
          "base_uri": "https://localhost:8080/"
        },
        "id": "100PBa_5PgoM",
        "outputId": "6a9e8f4a-e21c-453c-f0e8-bfbba5e490a6"
      },
      "outputs": [
        {
          "output_type": "stream",
          "name": "stdout",
          "text": [
            "Requirement already satisfied: transformers in /usr/local/lib/python3.11/dist-packages (4.51.3)\n",
            "Collecting datasets\n",
            "  Downloading datasets-3.6.0-py3-none-any.whl.metadata (19 kB)\n",
            "Collecting seqeval\n",
            "  Downloading seqeval-1.2.2.tar.gz (43 kB)\n",
            "\u001b[2K     \u001b[90m━━━━━━━━━━━━━━━━━━━━━━━━━━━━━━━━━━━━━━━━\u001b[0m \u001b[32m43.6/43.6 kB\u001b[0m \u001b[31m1.9 MB/s\u001b[0m eta \u001b[36m0:00:00\u001b[0m\n",
            "\u001b[?25h  Preparing metadata (setup.py) ... \u001b[?25l\u001b[?25hdone\n",
            "Requirement already satisfied: scikit-learn in /usr/local/lib/python3.11/dist-packages (1.6.1)\n",
            "Requirement already satisfied: filelock in /usr/local/lib/python3.11/dist-packages (from transformers) (3.18.0)\n",
            "Requirement already satisfied: huggingface-hub<1.0,>=0.30.0 in /usr/local/lib/python3.11/dist-packages (from transformers) (0.30.2)\n",
            "Requirement already satisfied: numpy>=1.17 in /usr/local/lib/python3.11/dist-packages (from transformers) (2.0.2)\n",
            "Requirement already satisfied: packaging>=20.0 in /usr/local/lib/python3.11/dist-packages (from transformers) (24.2)\n",
            "Requirement already satisfied: pyyaml>=5.1 in /usr/local/lib/python3.11/dist-packages (from transformers) (6.0.2)\n",
            "Requirement already satisfied: regex!=2019.12.17 in /usr/local/lib/python3.11/dist-packages (from transformers) (2024.11.6)\n",
            "Requirement already satisfied: requests in /usr/local/lib/python3.11/dist-packages (from transformers) (2.32.3)\n",
            "Requirement already satisfied: tokenizers<0.22,>=0.21 in /usr/local/lib/python3.11/dist-packages (from transformers) (0.21.1)\n",
            "Requirement already satisfied: safetensors>=0.4.3 in /usr/local/lib/python3.11/dist-packages (from transformers) (0.5.3)\n",
            "Requirement already satisfied: tqdm>=4.27 in /usr/local/lib/python3.11/dist-packages (from transformers) (4.67.1)\n",
            "Requirement already satisfied: pyarrow>=15.0.0 in /usr/local/lib/python3.11/dist-packages (from datasets) (18.1.0)\n",
            "Collecting dill<0.3.9,>=0.3.0 (from datasets)\n",
            "  Downloading dill-0.3.8-py3-none-any.whl.metadata (10 kB)\n",
            "Requirement already satisfied: pandas in /usr/local/lib/python3.11/dist-packages (from datasets) (2.2.2)\n",
            "Collecting xxhash (from datasets)\n",
            "  Downloading xxhash-3.5.0-cp311-cp311-manylinux_2_17_x86_64.manylinux2014_x86_64.whl.metadata (12 kB)\n",
            "Collecting multiprocess<0.70.17 (from datasets)\n",
            "  Downloading multiprocess-0.70.16-py311-none-any.whl.metadata (7.2 kB)\n",
            "Collecting fsspec<=2025.3.0,>=2023.1.0 (from fsspec[http]<=2025.3.0,>=2023.1.0->datasets)\n",
            "  Downloading fsspec-2025.3.0-py3-none-any.whl.metadata (11 kB)\n",
            "Requirement already satisfied: scipy>=1.6.0 in /usr/local/lib/python3.11/dist-packages (from scikit-learn) (1.15.2)\n",
            "Requirement already satisfied: joblib>=1.2.0 in /usr/local/lib/python3.11/dist-packages (from scikit-learn) (1.4.2)\n",
            "Requirement already satisfied: threadpoolctl>=3.1.0 in /usr/local/lib/python3.11/dist-packages (from scikit-learn) (3.6.0)\n",
            "Requirement already satisfied: aiohttp!=4.0.0a0,!=4.0.0a1 in /usr/local/lib/python3.11/dist-packages (from fsspec[http]<=2025.3.0,>=2023.1.0->datasets) (3.11.15)\n",
            "Requirement already satisfied: typing-extensions>=3.7.4.3 in /usr/local/lib/python3.11/dist-packages (from huggingface-hub<1.0,>=0.30.0->transformers) (4.13.2)\n",
            "Requirement already satisfied: charset-normalizer<4,>=2 in /usr/local/lib/python3.11/dist-packages (from requests->transformers) (3.4.1)\n",
            "Requirement already satisfied: idna<4,>=2.5 in /usr/local/lib/python3.11/dist-packages (from requests->transformers) (3.10)\n",
            "Requirement already satisfied: urllib3<3,>=1.21.1 in /usr/local/lib/python3.11/dist-packages (from requests->transformers) (2.4.0)\n",
            "Requirement already satisfied: certifi>=2017.4.17 in /usr/local/lib/python3.11/dist-packages (from requests->transformers) (2025.4.26)\n",
            "Requirement already satisfied: python-dateutil>=2.8.2 in /usr/local/lib/python3.11/dist-packages (from pandas->datasets) (2.9.0.post0)\n",
            "Requirement already satisfied: pytz>=2020.1 in /usr/local/lib/python3.11/dist-packages (from pandas->datasets) (2025.2)\n",
            "Requirement already satisfied: tzdata>=2022.7 in /usr/local/lib/python3.11/dist-packages (from pandas->datasets) (2025.2)\n",
            "Requirement already satisfied: aiohappyeyeballs>=2.3.0 in /usr/local/lib/python3.11/dist-packages (from aiohttp!=4.0.0a0,!=4.0.0a1->fsspec[http]<=2025.3.0,>=2023.1.0->datasets) (2.6.1)\n",
            "Requirement already satisfied: aiosignal>=1.1.2 in /usr/local/lib/python3.11/dist-packages (from aiohttp!=4.0.0a0,!=4.0.0a1->fsspec[http]<=2025.3.0,>=2023.1.0->datasets) (1.3.2)\n",
            "Requirement already satisfied: attrs>=17.3.0 in /usr/local/lib/python3.11/dist-packages (from aiohttp!=4.0.0a0,!=4.0.0a1->fsspec[http]<=2025.3.0,>=2023.1.0->datasets) (25.3.0)\n",
            "Requirement already satisfied: frozenlist>=1.1.1 in /usr/local/lib/python3.11/dist-packages (from aiohttp!=4.0.0a0,!=4.0.0a1->fsspec[http]<=2025.3.0,>=2023.1.0->datasets) (1.6.0)\n",
            "Requirement already satisfied: multidict<7.0,>=4.5 in /usr/local/lib/python3.11/dist-packages (from aiohttp!=4.0.0a0,!=4.0.0a1->fsspec[http]<=2025.3.0,>=2023.1.0->datasets) (6.4.3)\n",
            "Requirement already satisfied: propcache>=0.2.0 in /usr/local/lib/python3.11/dist-packages (from aiohttp!=4.0.0a0,!=4.0.0a1->fsspec[http]<=2025.3.0,>=2023.1.0->datasets) (0.3.1)\n",
            "Requirement already satisfied: yarl<2.0,>=1.17.0 in /usr/local/lib/python3.11/dist-packages (from aiohttp!=4.0.0a0,!=4.0.0a1->fsspec[http]<=2025.3.0,>=2023.1.0->datasets) (1.20.0)\n",
            "Requirement already satisfied: six>=1.5 in /usr/local/lib/python3.11/dist-packages (from python-dateutil>=2.8.2->pandas->datasets) (1.17.0)\n",
            "Downloading datasets-3.6.0-py3-none-any.whl (491 kB)\n",
            "\u001b[2K   \u001b[90m━━━━━━━━━━━━━━━━━━━━━━━━━━━━━━━━━━━━━━━━\u001b[0m \u001b[32m491.5/491.5 kB\u001b[0m \u001b[31m9.5 MB/s\u001b[0m eta \u001b[36m0:00:00\u001b[0m\n",
            "\u001b[?25hDownloading dill-0.3.8-py3-none-any.whl (116 kB)\n",
            "\u001b[2K   \u001b[90m━━━━━━━━━━━━━━━━━━━━━━━━━━━━━━━━━━━━━━━━\u001b[0m \u001b[32m116.3/116.3 kB\u001b[0m \u001b[31m4.9 MB/s\u001b[0m eta \u001b[36m0:00:00\u001b[0m\n",
            "\u001b[?25hDownloading fsspec-2025.3.0-py3-none-any.whl (193 kB)\n",
            "\u001b[2K   \u001b[90m━━━━━━━━━━━━━━━━━━━━━━━━━━━━━━━━━━━━━━━━\u001b[0m \u001b[32m193.6/193.6 kB\u001b[0m \u001b[31m8.0 MB/s\u001b[0m eta \u001b[36m0:00:00\u001b[0m\n",
            "\u001b[?25hDownloading multiprocess-0.70.16-py311-none-any.whl (143 kB)\n",
            "\u001b[2K   \u001b[90m━━━━━━━━━━━━━━━━━━━━━━━━━━━━━━━━━━━━━━━━\u001b[0m \u001b[32m143.5/143.5 kB\u001b[0m \u001b[31m8.1 MB/s\u001b[0m eta \u001b[36m0:00:00\u001b[0m\n",
            "\u001b[?25hDownloading xxhash-3.5.0-cp311-cp311-manylinux_2_17_x86_64.manylinux2014_x86_64.whl (194 kB)\n",
            "\u001b[2K   \u001b[90m━━━━━━━━━━━━━━━━━━━━━━━━━━━━━━━━━━━━━━━━\u001b[0m \u001b[32m194.8/194.8 kB\u001b[0m \u001b[31m4.5 MB/s\u001b[0m eta \u001b[36m0:00:00\u001b[0m\n",
            "\u001b[?25hBuilding wheels for collected packages: seqeval\n",
            "  Building wheel for seqeval (setup.py) ... \u001b[?25l\u001b[?25hdone\n",
            "  Created wheel for seqeval: filename=seqeval-1.2.2-py3-none-any.whl size=16162 sha256=4f9e5d4bce07f9398cc63c51c770e4059f15d291bda5caa64fb05cae3f6af509\n",
            "  Stored in directory: /root/.cache/pip/wheels/bc/92/f0/243288f899c2eacdfa8c5f9aede4c71a9bad0ee26a01dc5ead\n",
            "Successfully built seqeval\n",
            "Installing collected packages: xxhash, fsspec, dill, multiprocess, seqeval, datasets\n",
            "  Attempting uninstall: fsspec\n",
            "    Found existing installation: fsspec 2025.3.2\n",
            "    Uninstalling fsspec-2025.3.2:\n",
            "      Successfully uninstalled fsspec-2025.3.2\n",
            "\u001b[31mERROR: pip's dependency resolver does not currently take into account all the packages that are installed. This behaviour is the source of the following dependency conflicts.\n",
            "gcsfs 2025.3.2 requires fsspec==2025.3.2, but you have fsspec 2025.3.0 which is incompatible.\n",
            "torch 2.6.0+cu124 requires nvidia-cublas-cu12==12.4.5.8; platform_system == \"Linux\" and platform_machine == \"x86_64\", but you have nvidia-cublas-cu12 12.5.3.2 which is incompatible.\n",
            "torch 2.6.0+cu124 requires nvidia-cuda-cupti-cu12==12.4.127; platform_system == \"Linux\" and platform_machine == \"x86_64\", but you have nvidia-cuda-cupti-cu12 12.5.82 which is incompatible.\n",
            "torch 2.6.0+cu124 requires nvidia-cuda-nvrtc-cu12==12.4.127; platform_system == \"Linux\" and platform_machine == \"x86_64\", but you have nvidia-cuda-nvrtc-cu12 12.5.82 which is incompatible.\n",
            "torch 2.6.0+cu124 requires nvidia-cuda-runtime-cu12==12.4.127; platform_system == \"Linux\" and platform_machine == \"x86_64\", but you have nvidia-cuda-runtime-cu12 12.5.82 which is incompatible.\n",
            "torch 2.6.0+cu124 requires nvidia-cudnn-cu12==9.1.0.70; platform_system == \"Linux\" and platform_machine == \"x86_64\", but you have nvidia-cudnn-cu12 9.3.0.75 which is incompatible.\n",
            "torch 2.6.0+cu124 requires nvidia-cufft-cu12==11.2.1.3; platform_system == \"Linux\" and platform_machine == \"x86_64\", but you have nvidia-cufft-cu12 11.2.3.61 which is incompatible.\n",
            "torch 2.6.0+cu124 requires nvidia-curand-cu12==10.3.5.147; platform_system == \"Linux\" and platform_machine == \"x86_64\", but you have nvidia-curand-cu12 10.3.6.82 which is incompatible.\n",
            "torch 2.6.0+cu124 requires nvidia-cusolver-cu12==11.6.1.9; platform_system == \"Linux\" and platform_machine == \"x86_64\", but you have nvidia-cusolver-cu12 11.6.3.83 which is incompatible.\n",
            "torch 2.6.0+cu124 requires nvidia-cusparse-cu12==12.3.1.170; platform_system == \"Linux\" and platform_machine == \"x86_64\", but you have nvidia-cusparse-cu12 12.5.1.3 which is incompatible.\n",
            "torch 2.6.0+cu124 requires nvidia-nvjitlink-cu12==12.4.127; platform_system == \"Linux\" and platform_machine == \"x86_64\", but you have nvidia-nvjitlink-cu12 12.5.82 which is incompatible.\u001b[0m\u001b[31m\n",
            "\u001b[0mSuccessfully installed datasets-3.6.0 dill-0.3.8 fsspec-2025.3.0 multiprocess-0.70.16 seqeval-1.2.2 xxhash-3.5.0\n"
          ]
        }
      ],
      "source": [
        "%pip install transformers datasets seqeval scikit-learn"
      ]
    },
    {
      "cell_type": "code",
      "execution_count": 2,
      "metadata": {
        "_cell_guid": "1002bc4e-0292-4f03-a8fd-c7f98884307d",
        "_uuid": "3e0152f4-b8ba-42e9-b0f7-c6b7a1f0f6e7",
        "execution": {
          "iopub.execute_input": "2025-05-09T03:53:23.391168Z",
          "iopub.status.busy": "2025-05-09T03:53:23.390914Z",
          "iopub.status.idle": "2025-05-09T03:53:23.408288Z",
          "shell.execute_reply": "2025-05-09T03:53:23.407564Z",
          "shell.execute_reply.started": "2025-05-09T03:53:23.391150Z"
        },
        "jupyter": {
          "outputs_hidden": false
        },
        "trusted": true,
        "id": "F5ngr9JrPgoN"
      },
      "outputs": [],
      "source": [
        "import xml.etree.ElementTree as ET\n",
        "import pandas as pd\n",
        "\n",
        "def parse_semeval_xml(file_path):\n",
        "    tree = ET.parse(file_path)\n",
        "    root = tree.getroot()\n",
        "    data = []\n",
        "\n",
        "    for sentence in root.iter('sentence'):\n",
        "        sent_id = sentence.get('id')\n",
        "        text = sentence.find('text').text\n",
        "        aspects = sentence.find('aspectTerms')\n",
        "\n",
        "        aspect_terms = []\n",
        "        polarities = []\n",
        "        if aspects:\n",
        "            for aspect in aspects.findall('aspectTerm'):\n",
        "                aspect_terms.append(aspect.get('term'))\n",
        "                polarities.append(aspect.get('polarity'))\n",
        "\n",
        "        data.append({\n",
        "            'id': sent_id,\n",
        "            'sentence': text,\n",
        "            'aspect_terms': aspect_terms,\n",
        "            'polarities': polarities\n",
        "        })\n",
        "\n",
        "    return pd.DataFrame(data)"
      ]
    },
    {
      "cell_type": "code",
      "execution_count": 6,
      "metadata": {
        "_cell_guid": "ee5f5f30-d223-4d02-a687-761889999b38",
        "_uuid": "480794b1-83b6-4b72-9a11-f849129dbaab",
        "execution": {
          "iopub.execute_input": "2025-05-09T03:53:23.410402Z",
          "iopub.status.busy": "2025-05-09T03:53:23.410178Z",
          "iopub.status.idle": "2025-05-09T03:53:23.504341Z",
          "shell.execute_reply": "2025-05-09T03:53:23.503778Z",
          "shell.execute_reply.started": "2025-05-09T03:53:23.410384Z"
        },
        "jupyter": {
          "outputs_hidden": false
        },
        "trusted": true,
        "id": "l9dRH4HuPgoN"
      },
      "outputs": [],
      "source": [
        "restaurant_df = parse_semeval_xml('/content/Restaurants_Train_v2.xml')\n",
        "laptop_df = parse_semeval_xml('/content/Laptop_Train_v2.xml')\n",
        "combined_df = pd.concat([restaurant_df, laptop_df], ignore_index=True)\n"
      ]
    },
    {
      "cell_type": "code",
      "execution_count": 7,
      "metadata": {
        "_cell_guid": "6f209bc9-87ae-4112-ab11-c79154781632",
        "_uuid": "8d810d18-f097-4614-b71e-21f1065c9c4d",
        "execution": {
          "iopub.execute_input": "2025-05-09T03:53:23.505218Z",
          "iopub.status.busy": "2025-05-09T03:53:23.505008Z",
          "iopub.status.idle": "2025-05-09T03:53:23.511133Z",
          "shell.execute_reply": "2025-05-09T03:53:23.510160Z",
          "shell.execute_reply.started": "2025-05-09T03:53:23.505201Z"
        },
        "jupyter": {
          "outputs_hidden": false
        },
        "trusted": true,
        "colab": {
          "base_uri": "https://localhost:8080/"
        },
        "id": "gwhKio09PgoO",
        "outputId": "0609d307-bb6e-4ae1-b633-7273aaefee53"
      },
      "outputs": [
        {
          "output_type": "stream",
          "name": "stdout",
          "text": [
            "id                                                           1458\n",
            "sentence        Our agreed favorite is the orrechiete with sau...\n",
            "aspect_terms    [orrechiete with sausage and chicken, waiters,...\n",
            "polarities                 [positive, positive, neutral, neutral]\n",
            "Name: 7, dtype: object\n"
          ]
        }
      ],
      "source": [
        "print(combined_df.iloc[7])"
      ]
    },
    {
      "cell_type": "markdown",
      "metadata": {
        "_cell_guid": "0b3b727d-a80c-4e6e-a7b0-d75254b759d0",
        "_uuid": "ac42b84d-8ecf-4836-87b3-a8c5bcf5443e",
        "collapsed": false,
        "jupyter": {
          "outputs_hidden": false
        },
        "trusted": true,
        "id": "c-4xR1BYPgoO"
      },
      "source": [
        "# Step 2: Preprocess for Aspect Term Extraction (ATE)"
      ]
    },
    {
      "cell_type": "code",
      "execution_count": 8,
      "metadata": {
        "_cell_guid": "26cd76c6-7074-4811-bc0b-bd79e40d9f63",
        "_uuid": "6f2c1866-3987-4636-9d75-00727213ba5c",
        "execution": {
          "iopub.execute_input": "2025-05-09T03:53:23.512154Z",
          "iopub.status.busy": "2025-05-09T03:53:23.511909Z",
          "iopub.status.idle": "2025-05-09T03:53:24.625770Z",
          "shell.execute_reply": "2025-05-09T03:53:24.625214Z",
          "shell.execute_reply.started": "2025-05-09T03:53:23.512138Z"
        },
        "jupyter": {
          "outputs_hidden": false
        },
        "trusted": true,
        "colab": {
          "base_uri": "https://localhost:8080/"
        },
        "id": "P-utNkkTPgoP",
        "outputId": "6e6b1e70-532c-4448-b0d1-6dab694a1b4a"
      },
      "outputs": [
        {
          "output_type": "stream",
          "name": "stderr",
          "text": [
            "[nltk_data] Downloading package punkt to /root/nltk_data...\n",
            "[nltk_data]   Unzipping tokenizers/punkt.zip.\n",
            "[nltk_data] Downloading package punkt_tab to /root/nltk_data...\n",
            "[nltk_data]   Unzipping tokenizers/punkt_tab.zip.\n"
          ]
        }
      ],
      "source": [
        "import nltk\n",
        "from nltk.tokenize import word_tokenize\n",
        "nltk.download('punkt')\n",
        "nltk.download('punkt_tab')\n",
        "\n",
        "def tokenize_and_label(sentence, aspect_terms):\n",
        "    tokens = word_tokenize(sentence)\n",
        "    labels = ['O'] * len(tokens)\n",
        "    for aspect in aspect_terms:\n",
        "        aspect_tokens = word_tokenize(aspect)\n",
        "        for i in range(len(tokens) - len(aspect_tokens) + 1):\n",
        "            if tokens[i:i+len(aspect_tokens)] == aspect_tokens:\n",
        "                labels[i] = 'B-ASPECT'\n",
        "                for j in range(1, len(aspect_tokens)):\n",
        "                    labels[i + j] = 'I-ASPECT'\n",
        "                break\n",
        "    return tokens, labels"
      ]
    },
    {
      "cell_type": "code",
      "source": [
        "ate_data = [\n",
        "    {'tokens': tokenize_and_label(row['sentence'], row['aspect_terms'])[0],\n",
        "     'labels': tokenize_and_label(row['sentence'], row['aspect_terms'])[1]}\n",
        "    for _, row in combined_df.iterrows()\n",
        "]\n",
        "ate_df = pd.DataFrame(ate_data)\n"
      ],
      "metadata": {
        "id": "xJ2htqhAt68A"
      },
      "execution_count": 9,
      "outputs": []
    },
    {
      "cell_type": "markdown",
      "metadata": {
        "_cell_guid": "3e1e4845-3b58-4aec-bdeb-f49ae7b4adff",
        "_uuid": "69110f86-b7d0-46a6-a836-0ee96a91bcfe",
        "collapsed": false,
        "jupyter": {
          "outputs_hidden": false
        },
        "trusted": true,
        "id": "myKEL-PiPgoP"
      },
      "source": [
        "# Step 3: Preprocess for Aspect Sentiment Classification (ASC)"
      ]
    },
    {
      "cell_type": "code",
      "execution_count": 10,
      "metadata": {
        "_cell_guid": "ea80579e-beb7-49c4-b138-ab9b736af02d",
        "_uuid": "4d0233e2-9e16-4b7c-bba2-ada42319e14e",
        "execution": {
          "iopub.execute_input": "2025-05-09T03:53:24.626840Z",
          "iopub.status.busy": "2025-05-09T03:53:24.626578Z",
          "iopub.status.idle": "2025-05-09T03:53:24.904487Z",
          "shell.execute_reply": "2025-05-09T03:53:24.903955Z",
          "shell.execute_reply.started": "2025-05-09T03:53:24.626822Z"
        },
        "jupyter": {
          "outputs_hidden": false
        },
        "trusted": true,
        "id": "o9uRt1-0PgoP"
      },
      "outputs": [],
      "source": [
        "asc_data = [\n",
        "    {'sentence': row['sentence'], 'aspect': aspect, 'polarity': polarity}\n",
        "    for _, row in combined_df.iterrows()\n",
        "    for aspect, polarity in zip(row['aspect_terms'], row['polarities'])\n",
        "]\n",
        "asc_df = pd.DataFrame(asc_data)"
      ]
    },
    {
      "cell_type": "markdown",
      "metadata": {
        "_cell_guid": "f9a8710c-ace9-4e13-a05b-6a411d1f8f42",
        "_uuid": "3b67c7c6-2893-463d-9b68-8e28f9be5e6f",
        "collapsed": false,
        "jupyter": {
          "outputs_hidden": false
        },
        "trusted": true,
        "id": "IY4RtK0_PgoQ"
      },
      "source": [
        "# Step 4: Convert Data to Hugging Face Dataset Format"
      ]
    },
    {
      "cell_type": "code",
      "execution_count": 11,
      "metadata": {
        "_cell_guid": "4023d9db-e570-41f7-bb2f-4e2a98881f4f",
        "_uuid": "3dc60088-d215-4533-ad10-edf286c09b6d",
        "execution": {
          "iopub.execute_input": "2025-05-09T03:53:24.905490Z",
          "iopub.status.busy": "2025-05-09T03:53:24.905239Z",
          "iopub.status.idle": "2025-05-09T03:53:24.958845Z",
          "shell.execute_reply": "2025-05-09T03:53:24.958262Z",
          "shell.execute_reply.started": "2025-05-09T03:53:24.905468Z"
        },
        "jupyter": {
          "outputs_hidden": false
        },
        "trusted": true,
        "id": "ulPRC11PPgoQ"
      },
      "outputs": [],
      "source": [
        "from datasets import Dataset\n",
        "ate_dataset = Dataset.from_pandas(ate_df)\n",
        "asc_dataset = Dataset.from_pandas(asc_df)"
      ]
    },
    {
      "cell_type": "markdown",
      "metadata": {
        "_cell_guid": "881b6dda-3b0c-4cda-aeca-ab884256924c",
        "_uuid": "7e0d6022-1d14-486c-b892-5211770fed76",
        "collapsed": false,
        "jupyter": {
          "outputs_hidden": false
        },
        "trusted": true,
        "id": "hnVw0-VaPgoQ"
      },
      "source": [
        "# Step 5: Tokenize the Data"
      ]
    },
    {
      "cell_type": "code",
      "execution_count": 12,
      "metadata": {
        "_cell_guid": "c635143b-f339-4d52-9db9-69ba74017e2f",
        "_uuid": "cc6b056b-5599-4019-a06e-c060e7014569",
        "collapsed": true,
        "execution": {
          "iopub.execute_input": "2025-05-09T03:53:24.959782Z",
          "iopub.status.busy": "2025-05-09T03:53:24.959531Z",
          "iopub.status.idle": "2025-05-09T03:53:25.120581Z",
          "shell.execute_reply": "2025-05-09T03:53:25.120031Z",
          "shell.execute_reply.started": "2025-05-09T03:53:24.959759Z"
        },
        "jupyter": {
          "outputs_hidden": false
        },
        "trusted": true,
        "colab": {
          "base_uri": "https://localhost:8080/",
          "height": 49,
          "referenced_widgets": [
            "91b365f03d2040f49838cd97a3c42cfe",
            "8e8e72afdad84f8a8cd9848be92819cf",
            "d4be94733949439b85b0232da53fdb2d",
            "1eb8d2bfa30c4a6f9d8526a5bf871ee4",
            "017cf47a6516401d8aca52991b919b7a",
            "fe71b3c0c1024a6fb32bbabc43280fd6",
            "38e87a2a17ed4164af61d9d48d7d49fb",
            "b2f2d7b2ff0e46b3a1459283442741d2",
            "187c56806f264c9fa57507e8b4a1d96c",
            "f705a27b92094836bcd0804cb745cfd6",
            "a5c337f85f7241adbf3f6e1450c742eb"
          ]
        },
        "id": "wkN6SJtrPgoQ",
        "outputId": "16ea7c51-0c24-40b1-d060-9f9170d96907"
      },
      "outputs": [
        {
          "output_type": "display_data",
          "data": {
            "text/plain": [
              "Map:   0%|          | 0/6086 [00:00<?, ? examples/s]"
            ],
            "application/vnd.jupyter.widget-view+json": {
              "version_major": 2,
              "version_minor": 0,
              "model_id": "91b365f03d2040f49838cd97a3c42cfe"
            }
          },
          "metadata": {}
        }
      ],
      "source": [
        "from transformers import BertTokenizerFast\n",
        "\n",
        "tokenizer = BertTokenizerFast.from_pretrained('bert-base-uncased')\n",
        "label2id = {'O': 0, 'B-ASPECT': 1, 'I-ASPECT': 2}\n",
        "id2label = {v: k for k, v in label2id.items()}\n",
        "\n",
        "from transformers import BertTokenizerFast\n",
        "\n",
        "tokenizer = BertTokenizerFast.from_pretrained('bert-base-uncased')\n",
        "label2id = {'O': 0, 'B-ASPECT': 1, 'I-ASPECT': 2}\n",
        "id2label = {v: k for k, v in label2id.items()}\n",
        "\n",
        "def preprocess_ate(examples):\n",
        "    tokenized_inputs = tokenizer(\n",
        "        examples[\"tokens\"],\n",
        "        truncation=True,\n",
        "        padding=\"max_length\",\n",
        "        max_length=128,\n",
        "        is_split_into_words=True,\n",
        "        return_offsets_mapping=True,\n",
        "    )\n",
        "\n",
        "    all_labels = []\n",
        "    for batch_index, word_ids in enumerate(tokenized_inputs.word_ids(batch_index=i) for i in range(len(examples[\"tokens\"]))):\n",
        "        original_labels = examples[\"labels\"][batch_index]\n",
        "        aligned_labels = []\n",
        "        previous_word_idx = None\n",
        "        for word_idx in word_ids:\n",
        "            if word_idx is None:\n",
        "                aligned_labels.append(-100)  # ignore special tokens\n",
        "            elif word_idx != previous_word_idx:\n",
        "                aligned_labels.append(label2id.get(original_labels[word_idx], 0))  # B- or I-ASPECT\n",
        "            else:\n",
        "                aligned_labels.append(-100)  # subword token\n",
        "            previous_word_idx = word_idx\n",
        "\n",
        "        # Padding to match max_length\n",
        "        aligned_labels = aligned_labels[:128]\n",
        "        aligned_labels += [-100] * (128 - len(aligned_labels))\n",
        "        all_labels.append(aligned_labels)\n",
        "\n",
        "    tokenized_inputs[\"labels\"] = all_labels\n",
        "    return tokenized_inputs\n",
        "\n",
        "\n",
        "ate_dataset = ate_dataset.map(preprocess_ate, batched=True)\n"
      ]
    },
    {
      "cell_type": "code",
      "execution_count": 13,
      "metadata": {
        "_cell_guid": "34a84140-ccda-434b-9fe4-4dd82cfe4267",
        "_uuid": "74043d8a-2dc3-4055-a920-c207c21a40c3",
        "execution": {
          "iopub.execute_input": "2025-05-09T03:53:25.123999Z",
          "iopub.status.busy": "2025-05-09T03:53:25.123218Z",
          "iopub.status.idle": "2025-05-09T03:53:25.128713Z",
          "shell.execute_reply": "2025-05-09T03:53:25.127984Z",
          "shell.execute_reply.started": "2025-05-09T03:53:25.123955Z"
        },
        "jupyter": {
          "outputs_hidden": false
        },
        "trusted": true,
        "colab": {
          "base_uri": "https://localhost:8080/",
          "height": 49,
          "referenced_widgets": [
            "2e414ac8c59a4ef5aa93a86aa2fe229e",
            "603d8a248b8b4db2bb60e2b97a49ef42",
            "073c4f4b7d654e3ca09eb377bce3f5c9",
            "91e19d2c5c244a1894b03855a0991c54",
            "1c3e644f107842d5b5e53d0ad722114d",
            "d55fdf7d2f25404a9a67281069e93f3a",
            "8c2a569bc32e4207a5e663f838dcae93",
            "12ba9ce8156045bea2eb1d00be3c20df",
            "660a149e8c9c427ea4cf9dd81daa377e",
            "47a0b66ecb0641e4a9825d0f1d6c7f3d",
            "915454eb1dc44fd7a9bc2ac4db1678d9"
          ]
        },
        "id": "aUZIyE0oPgoQ",
        "outputId": "c2b0c762-0961-449a-ab36-e3dcee74116c"
      },
      "outputs": [
        {
          "output_type": "display_data",
          "data": {
            "text/plain": [
              "Map:   0%|          | 0/6051 [00:00<?, ? examples/s]"
            ],
            "application/vnd.jupyter.widget-view+json": {
              "version_major": 2,
              "version_minor": 0,
              "model_id": "2e414ac8c59a4ef5aa93a86aa2fe229e"
            }
          },
          "metadata": {}
        }
      ],
      "source": [
        "def preprocess_asc(examples):\n",
        "    text = [f\"{s} [SEP] {a}\" for s, a in zip(examples['sentence'], examples['aspect'])]\n",
        "    labels = [0 if p == \"negative\" else 1 if p == \"neutral\" else 2 for p in examples['polarity']]\n",
        "    tokenized = tokenizer(text, padding='max_length', truncation=True, max_length=128)\n",
        "    tokenized['labels'] = labels\n",
        "    return tokenized\n",
        "\n",
        "asc_dataset = asc_dataset.map(preprocess_asc, batched=True)\n"
      ]
    },
    {
      "cell_type": "code",
      "execution_count": 14,
      "metadata": {
        "_cell_guid": "b1fade59-d884-4761-99d3-07f259e22304",
        "_uuid": "1725ac61-ce87-422a-8f78-0cd1cac11a81",
        "execution": {
          "iopub.execute_input": "2025-05-09T03:53:32.968896Z",
          "iopub.status.busy": "2025-05-09T03:53:32.968615Z",
          "iopub.status.idle": "2025-05-09T03:53:32.974517Z",
          "shell.execute_reply": "2025-05-09T03:53:32.973784Z",
          "shell.execute_reply.started": "2025-05-09T03:53:32.968872Z"
        },
        "jupyter": {
          "outputs_hidden": false
        },
        "trusted": true,
        "colab": {
          "base_uri": "https://localhost:8080/"
        },
        "id": "uaWjYw1aPgoR",
        "outputId": "ece6047a-8ca0-4eaf-ab8f-e1e30ea59425"
      },
      "outputs": [
        {
          "output_type": "stream",
          "name": "stdout",
          "text": [
            "{'tokens': ['I', 'will', 'be', 'going', 'back', 'very', 'soon', '.'], 'labels': [-100, 0, 0, 0, 0, 0, 0, 0, 0, -100, -100, -100, -100, -100, -100, -100, -100, -100, -100, -100, -100, -100, -100, -100, -100, -100, -100, -100, -100, -100, -100, -100, -100, -100, -100, -100, -100, -100, -100, -100, -100, -100, -100, -100, -100, -100, -100, -100, -100, -100, -100, -100, -100, -100, -100, -100, -100, -100, -100, -100, -100, -100, -100, -100, -100, -100, -100, -100, -100, -100, -100, -100, -100, -100, -100, -100, -100, -100, -100, -100, -100, -100, -100, -100, -100, -100, -100, -100, -100, -100, -100, -100, -100, -100, -100, -100, -100, -100, -100, -100, -100, -100, -100, -100, -100, -100, -100, -100, -100, -100, -100, -100, -100, -100, -100, -100, -100, -100, -100, -100, -100, -100, -100, -100, -100, -100, -100, -100], 'input_ids': [101, 1045, 2097, 2022, 2183, 2067, 2200, 2574, 1012, 102, 0, 0, 0, 0, 0, 0, 0, 0, 0, 0, 0, 0, 0, 0, 0, 0, 0, 0, 0, 0, 0, 0, 0, 0, 0, 0, 0, 0, 0, 0, 0, 0, 0, 0, 0, 0, 0, 0, 0, 0, 0, 0, 0, 0, 0, 0, 0, 0, 0, 0, 0, 0, 0, 0, 0, 0, 0, 0, 0, 0, 0, 0, 0, 0, 0, 0, 0, 0, 0, 0, 0, 0, 0, 0, 0, 0, 0, 0, 0, 0, 0, 0, 0, 0, 0, 0, 0, 0, 0, 0, 0, 0, 0, 0, 0, 0, 0, 0, 0, 0, 0, 0, 0, 0, 0, 0, 0, 0, 0, 0, 0, 0, 0, 0, 0, 0, 0, 0], 'token_type_ids': [0, 0, 0, 0, 0, 0, 0, 0, 0, 0, 0, 0, 0, 0, 0, 0, 0, 0, 0, 0, 0, 0, 0, 0, 0, 0, 0, 0, 0, 0, 0, 0, 0, 0, 0, 0, 0, 0, 0, 0, 0, 0, 0, 0, 0, 0, 0, 0, 0, 0, 0, 0, 0, 0, 0, 0, 0, 0, 0, 0, 0, 0, 0, 0, 0, 0, 0, 0, 0, 0, 0, 0, 0, 0, 0, 0, 0, 0, 0, 0, 0, 0, 0, 0, 0, 0, 0, 0, 0, 0, 0, 0, 0, 0, 0, 0, 0, 0, 0, 0, 0, 0, 0, 0, 0, 0, 0, 0, 0, 0, 0, 0, 0, 0, 0, 0, 0, 0, 0, 0, 0, 0, 0, 0, 0, 0, 0, 0], 'attention_mask': [1, 1, 1, 1, 1, 1, 1, 1, 1, 1, 0, 0, 0, 0, 0, 0, 0, 0, 0, 0, 0, 0, 0, 0, 0, 0, 0, 0, 0, 0, 0, 0, 0, 0, 0, 0, 0, 0, 0, 0, 0, 0, 0, 0, 0, 0, 0, 0, 0, 0, 0, 0, 0, 0, 0, 0, 0, 0, 0, 0, 0, 0, 0, 0, 0, 0, 0, 0, 0, 0, 0, 0, 0, 0, 0, 0, 0, 0, 0, 0, 0, 0, 0, 0, 0, 0, 0, 0, 0, 0, 0, 0, 0, 0, 0, 0, 0, 0, 0, 0, 0, 0, 0, 0, 0, 0, 0, 0, 0, 0, 0, 0, 0, 0, 0, 0, 0, 0, 0, 0, 0, 0, 0, 0, 0, 0, 0, 0], 'offset_mapping': [[0, 0], [0, 1], [0, 4], [0, 2], [0, 5], [0, 4], [0, 4], [0, 4], [0, 1], [0, 0], [0, 0], [0, 0], [0, 0], [0, 0], [0, 0], [0, 0], [0, 0], [0, 0], [0, 0], [0, 0], [0, 0], [0, 0], [0, 0], [0, 0], [0, 0], [0, 0], [0, 0], [0, 0], [0, 0], [0, 0], [0, 0], [0, 0], [0, 0], [0, 0], [0, 0], [0, 0], [0, 0], [0, 0], [0, 0], [0, 0], [0, 0], [0, 0], [0, 0], [0, 0], [0, 0], [0, 0], [0, 0], [0, 0], [0, 0], [0, 0], [0, 0], [0, 0], [0, 0], [0, 0], [0, 0], [0, 0], [0, 0], [0, 0], [0, 0], [0, 0], [0, 0], [0, 0], [0, 0], [0, 0], [0, 0], [0, 0], [0, 0], [0, 0], [0, 0], [0, 0], [0, 0], [0, 0], [0, 0], [0, 0], [0, 0], [0, 0], [0, 0], [0, 0], [0, 0], [0, 0], [0, 0], [0, 0], [0, 0], [0, 0], [0, 0], [0, 0], [0, 0], [0, 0], [0, 0], [0, 0], [0, 0], [0, 0], [0, 0], [0, 0], [0, 0], [0, 0], [0, 0], [0, 0], [0, 0], [0, 0], [0, 0], [0, 0], [0, 0], [0, 0], [0, 0], [0, 0], [0, 0], [0, 0], [0, 0], [0, 0], [0, 0], [0, 0], [0, 0], [0, 0], [0, 0], [0, 0], [0, 0], [0, 0], [0, 0], [0, 0], [0, 0], [0, 0], [0, 0], [0, 0], [0, 0], [0, 0], [0, 0], [0, 0]]}\n"
          ]
        }
      ],
      "source": [
        "print(ate_dataset[24])"
      ]
    },
    {
      "cell_type": "code",
      "source": [
        "print(asc_dataset[83])"
      ],
      "metadata": {
        "colab": {
          "base_uri": "https://localhost:8080/"
        },
        "id": "FRSt4XXh0RZn",
        "outputId": "1c4bab60-562c-417c-d2b8-143e5db89270"
      },
      "execution_count": 15,
      "outputs": [
        {
          "output_type": "stream",
          "name": "stdout",
          "text": [
            "{'sentence': 'I liked the beer selection!', 'aspect': 'beer selection', 'polarity': 'positive', 'input_ids': [101, 1045, 4669, 1996, 5404, 4989, 999, 102, 5404, 4989, 102, 0, 0, 0, 0, 0, 0, 0, 0, 0, 0, 0, 0, 0, 0, 0, 0, 0, 0, 0, 0, 0, 0, 0, 0, 0, 0, 0, 0, 0, 0, 0, 0, 0, 0, 0, 0, 0, 0, 0, 0, 0, 0, 0, 0, 0, 0, 0, 0, 0, 0, 0, 0, 0, 0, 0, 0, 0, 0, 0, 0, 0, 0, 0, 0, 0, 0, 0, 0, 0, 0, 0, 0, 0, 0, 0, 0, 0, 0, 0, 0, 0, 0, 0, 0, 0, 0, 0, 0, 0, 0, 0, 0, 0, 0, 0, 0, 0, 0, 0, 0, 0, 0, 0, 0, 0, 0, 0, 0, 0, 0, 0, 0, 0, 0, 0, 0, 0], 'token_type_ids': [0, 0, 0, 0, 0, 0, 0, 0, 0, 0, 0, 0, 0, 0, 0, 0, 0, 0, 0, 0, 0, 0, 0, 0, 0, 0, 0, 0, 0, 0, 0, 0, 0, 0, 0, 0, 0, 0, 0, 0, 0, 0, 0, 0, 0, 0, 0, 0, 0, 0, 0, 0, 0, 0, 0, 0, 0, 0, 0, 0, 0, 0, 0, 0, 0, 0, 0, 0, 0, 0, 0, 0, 0, 0, 0, 0, 0, 0, 0, 0, 0, 0, 0, 0, 0, 0, 0, 0, 0, 0, 0, 0, 0, 0, 0, 0, 0, 0, 0, 0, 0, 0, 0, 0, 0, 0, 0, 0, 0, 0, 0, 0, 0, 0, 0, 0, 0, 0, 0, 0, 0, 0, 0, 0, 0, 0, 0, 0], 'attention_mask': [1, 1, 1, 1, 1, 1, 1, 1, 1, 1, 1, 0, 0, 0, 0, 0, 0, 0, 0, 0, 0, 0, 0, 0, 0, 0, 0, 0, 0, 0, 0, 0, 0, 0, 0, 0, 0, 0, 0, 0, 0, 0, 0, 0, 0, 0, 0, 0, 0, 0, 0, 0, 0, 0, 0, 0, 0, 0, 0, 0, 0, 0, 0, 0, 0, 0, 0, 0, 0, 0, 0, 0, 0, 0, 0, 0, 0, 0, 0, 0, 0, 0, 0, 0, 0, 0, 0, 0, 0, 0, 0, 0, 0, 0, 0, 0, 0, 0, 0, 0, 0, 0, 0, 0, 0, 0, 0, 0, 0, 0, 0, 0, 0, 0, 0, 0, 0, 0, 0, 0, 0, 0, 0, 0, 0, 0, 0, 0], 'labels': 2}\n"
          ]
        }
      ]
    },
    {
      "cell_type": "code",
      "source": [
        "# Step 7: Split datasets\n",
        "ate_dataset = ate_dataset.shuffle(seed=42)\n",
        "train_ate_dataset = ate_dataset.select(range(0, int(0.9 * len(ate_dataset))))\n",
        "eval_ate_dataset = ate_dataset.select(range(int(0.9 * len(ate_dataset)), len(ate_dataset)))\n",
        "\n",
        "asc_dataset = asc_dataset.shuffle(seed=42)\n",
        "train_asc_dataset = asc_dataset.select(range(0, int(0.9 * len(asc_dataset))))\n",
        "eval_asc_dataset = asc_dataset.select(range(int(0.9 * len(asc_dataset)), len(asc_dataset)))\n"
      ],
      "metadata": {
        "id": "LNZuiEtmTX1K"
      },
      "execution_count": 16,
      "outputs": []
    },
    {
      "cell_type": "code",
      "source": [
        "# def hide_labels_in_eval(dataset, label_column):\n",
        "#     \"\"\"\n",
        "#     Function to hide labels in the evaluation dataset\n",
        "#     by removing the label column before inference.\n",
        "#     \"\"\"\n",
        "#     dataset = dataset.remove_columns([label_column])\n",
        "#     return dataset\n",
        "\n",
        "# # Apply to your evaluation datasets\n",
        "# eval_ate_dataset = hide_labels_in_eval(eval_ate_dataset, 'labels')\n",
        "# eval_asc_dataset = hide_labels_in_eval(eval_asc_dataset, 'polarity')\n"
      ],
      "metadata": {
        "id": "ESS_uGVrPeop"
      },
      "execution_count": 17,
      "outputs": []
    },
    {
      "cell_type": "code",
      "source": [
        "print(train_ate_dataset[0])\n",
        "print(eval_ate_dataset[0])\n",
        "print(train_asc_dataset[0])\n",
        "print(eval_asc_dataset[0])"
      ],
      "metadata": {
        "colab": {
          "base_uri": "https://localhost:8080/"
        },
        "id": "5C_QkNSEP928",
        "outputId": "15ba6263-55df-4c19-a9ca-3659ab5f646e"
      },
      "execution_count": 18,
      "outputs": [
        {
          "output_type": "stream",
          "name": "stdout",
          "text": [
            "{'tokens': ['Upon', 'entering', ',', 'we', 'were', 'greeted', 'by', 'the', 'owners', ',', 'Steven', 'and', 'Frederick', ',', 'who', 'went', 'out', 'of', 'their', 'way', 'to', 'be', 'more', 'than', 'gracious', 'hosts', '.'], 'labels': [-100, 0, 0, 0, 0, 0, 0, 0, 0, 1, 0, 0, 0, 0, 0, 0, 0, 0, 0, 0, 0, 0, 0, 0, 0, 0, -100, 1, 0, -100, -100, -100, -100, -100, -100, -100, -100, -100, -100, -100, -100, -100, -100, -100, -100, -100, -100, -100, -100, -100, -100, -100, -100, -100, -100, -100, -100, -100, -100, -100, -100, -100, -100, -100, -100, -100, -100, -100, -100, -100, -100, -100, -100, -100, -100, -100, -100, -100, -100, -100, -100, -100, -100, -100, -100, -100, -100, -100, -100, -100, -100, -100, -100, -100, -100, -100, -100, -100, -100, -100, -100, -100, -100, -100, -100, -100, -100, -100, -100, -100, -100, -100, -100, -100, -100, -100, -100, -100, -100, -100, -100, -100, -100, -100, -100, -100, -100, -100], 'input_ids': [101, 2588, 5738, 1010, 2057, 2020, 11188, 2011, 1996, 5608, 1010, 7112, 1998, 5406, 1010, 2040, 2253, 2041, 1997, 2037, 2126, 2000, 2022, 2062, 2084, 24665, 20113, 6184, 1012, 102, 0, 0, 0, 0, 0, 0, 0, 0, 0, 0, 0, 0, 0, 0, 0, 0, 0, 0, 0, 0, 0, 0, 0, 0, 0, 0, 0, 0, 0, 0, 0, 0, 0, 0, 0, 0, 0, 0, 0, 0, 0, 0, 0, 0, 0, 0, 0, 0, 0, 0, 0, 0, 0, 0, 0, 0, 0, 0, 0, 0, 0, 0, 0, 0, 0, 0, 0, 0, 0, 0, 0, 0, 0, 0, 0, 0, 0, 0, 0, 0, 0, 0, 0, 0, 0, 0, 0, 0, 0, 0, 0, 0, 0, 0, 0, 0, 0, 0], 'token_type_ids': [0, 0, 0, 0, 0, 0, 0, 0, 0, 0, 0, 0, 0, 0, 0, 0, 0, 0, 0, 0, 0, 0, 0, 0, 0, 0, 0, 0, 0, 0, 0, 0, 0, 0, 0, 0, 0, 0, 0, 0, 0, 0, 0, 0, 0, 0, 0, 0, 0, 0, 0, 0, 0, 0, 0, 0, 0, 0, 0, 0, 0, 0, 0, 0, 0, 0, 0, 0, 0, 0, 0, 0, 0, 0, 0, 0, 0, 0, 0, 0, 0, 0, 0, 0, 0, 0, 0, 0, 0, 0, 0, 0, 0, 0, 0, 0, 0, 0, 0, 0, 0, 0, 0, 0, 0, 0, 0, 0, 0, 0, 0, 0, 0, 0, 0, 0, 0, 0, 0, 0, 0, 0, 0, 0, 0, 0, 0, 0], 'attention_mask': [1, 1, 1, 1, 1, 1, 1, 1, 1, 1, 1, 1, 1, 1, 1, 1, 1, 1, 1, 1, 1, 1, 1, 1, 1, 1, 1, 1, 1, 1, 0, 0, 0, 0, 0, 0, 0, 0, 0, 0, 0, 0, 0, 0, 0, 0, 0, 0, 0, 0, 0, 0, 0, 0, 0, 0, 0, 0, 0, 0, 0, 0, 0, 0, 0, 0, 0, 0, 0, 0, 0, 0, 0, 0, 0, 0, 0, 0, 0, 0, 0, 0, 0, 0, 0, 0, 0, 0, 0, 0, 0, 0, 0, 0, 0, 0, 0, 0, 0, 0, 0, 0, 0, 0, 0, 0, 0, 0, 0, 0, 0, 0, 0, 0, 0, 0, 0, 0, 0, 0, 0, 0, 0, 0, 0, 0, 0, 0], 'offset_mapping': [[0, 0], [0, 4], [0, 8], [0, 1], [0, 2], [0, 4], [0, 7], [0, 2], [0, 3], [0, 6], [0, 1], [0, 6], [0, 3], [0, 9], [0, 1], [0, 3], [0, 4], [0, 3], [0, 2], [0, 5], [0, 3], [0, 2], [0, 2], [0, 4], [0, 4], [0, 2], [2, 8], [0, 5], [0, 1], [0, 0], [0, 0], [0, 0], [0, 0], [0, 0], [0, 0], [0, 0], [0, 0], [0, 0], [0, 0], [0, 0], [0, 0], [0, 0], [0, 0], [0, 0], [0, 0], [0, 0], [0, 0], [0, 0], [0, 0], [0, 0], [0, 0], [0, 0], [0, 0], [0, 0], [0, 0], [0, 0], [0, 0], [0, 0], [0, 0], [0, 0], [0, 0], [0, 0], [0, 0], [0, 0], [0, 0], [0, 0], [0, 0], [0, 0], [0, 0], [0, 0], [0, 0], [0, 0], [0, 0], [0, 0], [0, 0], [0, 0], [0, 0], [0, 0], [0, 0], [0, 0], [0, 0], [0, 0], [0, 0], [0, 0], [0, 0], [0, 0], [0, 0], [0, 0], [0, 0], [0, 0], [0, 0], [0, 0], [0, 0], [0, 0], [0, 0], [0, 0], [0, 0], [0, 0], [0, 0], [0, 0], [0, 0], [0, 0], [0, 0], [0, 0], [0, 0], [0, 0], [0, 0], [0, 0], [0, 0], [0, 0], [0, 0], [0, 0], [0, 0], [0, 0], [0, 0], [0, 0], [0, 0], [0, 0], [0, 0], [0, 0], [0, 0], [0, 0], [0, 0], [0, 0], [0, 0], [0, 0], [0, 0], [0, 0]]}\n",
            "{'tokens': ['Shiny', 'This', 'Laptop', 'is', 'the', 'Best', 'of', 'the', 'best', '!'], 'labels': [-100, 0, 0, 0, 0, 0, 0, 0, 0, 0, 0, -100, -100, -100, -100, -100, -100, -100, -100, -100, -100, -100, -100, -100, -100, -100, -100, -100, -100, -100, -100, -100, -100, -100, -100, -100, -100, -100, -100, -100, -100, -100, -100, -100, -100, -100, -100, -100, -100, -100, -100, -100, -100, -100, -100, -100, -100, -100, -100, -100, -100, -100, -100, -100, -100, -100, -100, -100, -100, -100, -100, -100, -100, -100, -100, -100, -100, -100, -100, -100, -100, -100, -100, -100, -100, -100, -100, -100, -100, -100, -100, -100, -100, -100, -100, -100, -100, -100, -100, -100, -100, -100, -100, -100, -100, -100, -100, -100, -100, -100, -100, -100, -100, -100, -100, -100, -100, -100, -100, -100, -100, -100, -100, -100, -100, -100, -100, -100], 'input_ids': [101, 12538, 2023, 12191, 2003, 1996, 2190, 1997, 1996, 2190, 999, 102, 0, 0, 0, 0, 0, 0, 0, 0, 0, 0, 0, 0, 0, 0, 0, 0, 0, 0, 0, 0, 0, 0, 0, 0, 0, 0, 0, 0, 0, 0, 0, 0, 0, 0, 0, 0, 0, 0, 0, 0, 0, 0, 0, 0, 0, 0, 0, 0, 0, 0, 0, 0, 0, 0, 0, 0, 0, 0, 0, 0, 0, 0, 0, 0, 0, 0, 0, 0, 0, 0, 0, 0, 0, 0, 0, 0, 0, 0, 0, 0, 0, 0, 0, 0, 0, 0, 0, 0, 0, 0, 0, 0, 0, 0, 0, 0, 0, 0, 0, 0, 0, 0, 0, 0, 0, 0, 0, 0, 0, 0, 0, 0, 0, 0, 0, 0], 'token_type_ids': [0, 0, 0, 0, 0, 0, 0, 0, 0, 0, 0, 0, 0, 0, 0, 0, 0, 0, 0, 0, 0, 0, 0, 0, 0, 0, 0, 0, 0, 0, 0, 0, 0, 0, 0, 0, 0, 0, 0, 0, 0, 0, 0, 0, 0, 0, 0, 0, 0, 0, 0, 0, 0, 0, 0, 0, 0, 0, 0, 0, 0, 0, 0, 0, 0, 0, 0, 0, 0, 0, 0, 0, 0, 0, 0, 0, 0, 0, 0, 0, 0, 0, 0, 0, 0, 0, 0, 0, 0, 0, 0, 0, 0, 0, 0, 0, 0, 0, 0, 0, 0, 0, 0, 0, 0, 0, 0, 0, 0, 0, 0, 0, 0, 0, 0, 0, 0, 0, 0, 0, 0, 0, 0, 0, 0, 0, 0, 0], 'attention_mask': [1, 1, 1, 1, 1, 1, 1, 1, 1, 1, 1, 1, 0, 0, 0, 0, 0, 0, 0, 0, 0, 0, 0, 0, 0, 0, 0, 0, 0, 0, 0, 0, 0, 0, 0, 0, 0, 0, 0, 0, 0, 0, 0, 0, 0, 0, 0, 0, 0, 0, 0, 0, 0, 0, 0, 0, 0, 0, 0, 0, 0, 0, 0, 0, 0, 0, 0, 0, 0, 0, 0, 0, 0, 0, 0, 0, 0, 0, 0, 0, 0, 0, 0, 0, 0, 0, 0, 0, 0, 0, 0, 0, 0, 0, 0, 0, 0, 0, 0, 0, 0, 0, 0, 0, 0, 0, 0, 0, 0, 0, 0, 0, 0, 0, 0, 0, 0, 0, 0, 0, 0, 0, 0, 0, 0, 0, 0, 0], 'offset_mapping': [[0, 0], [0, 5], [0, 4], [0, 6], [0, 2], [0, 3], [0, 4], [0, 2], [0, 3], [0, 4], [0, 1], [0, 0], [0, 0], [0, 0], [0, 0], [0, 0], [0, 0], [0, 0], [0, 0], [0, 0], [0, 0], [0, 0], [0, 0], [0, 0], [0, 0], [0, 0], [0, 0], [0, 0], [0, 0], [0, 0], [0, 0], [0, 0], [0, 0], [0, 0], [0, 0], [0, 0], [0, 0], [0, 0], [0, 0], [0, 0], [0, 0], [0, 0], [0, 0], [0, 0], [0, 0], [0, 0], [0, 0], [0, 0], [0, 0], [0, 0], [0, 0], [0, 0], [0, 0], [0, 0], [0, 0], [0, 0], [0, 0], [0, 0], [0, 0], [0, 0], [0, 0], [0, 0], [0, 0], [0, 0], [0, 0], [0, 0], [0, 0], [0, 0], [0, 0], [0, 0], [0, 0], [0, 0], [0, 0], [0, 0], [0, 0], [0, 0], [0, 0], [0, 0], [0, 0], [0, 0], [0, 0], [0, 0], [0, 0], [0, 0], [0, 0], [0, 0], [0, 0], [0, 0], [0, 0], [0, 0], [0, 0], [0, 0], [0, 0], [0, 0], [0, 0], [0, 0], [0, 0], [0, 0], [0, 0], [0, 0], [0, 0], [0, 0], [0, 0], [0, 0], [0, 0], [0, 0], [0, 0], [0, 0], [0, 0], [0, 0], [0, 0], [0, 0], [0, 0], [0, 0], [0, 0], [0, 0], [0, 0], [0, 0], [0, 0], [0, 0], [0, 0], [0, 0], [0, 0], [0, 0], [0, 0], [0, 0], [0, 0], [0, 0]]}\n",
            "{'sentence': 'Ive asked a cart attendant for a lotus leaf wrapped rice and she replied back rice and just walked away.', 'aspect': 'cart attendant', 'polarity': 'negative', 'input_ids': [101, 4921, 2063, 2356, 1037, 11122, 16742, 2005, 1037, 13030, 7053, 5058, 5785, 1998, 2016, 3880, 2067, 5785, 1998, 2074, 2939, 2185, 1012, 102, 11122, 16742, 102, 0, 0, 0, 0, 0, 0, 0, 0, 0, 0, 0, 0, 0, 0, 0, 0, 0, 0, 0, 0, 0, 0, 0, 0, 0, 0, 0, 0, 0, 0, 0, 0, 0, 0, 0, 0, 0, 0, 0, 0, 0, 0, 0, 0, 0, 0, 0, 0, 0, 0, 0, 0, 0, 0, 0, 0, 0, 0, 0, 0, 0, 0, 0, 0, 0, 0, 0, 0, 0, 0, 0, 0, 0, 0, 0, 0, 0, 0, 0, 0, 0, 0, 0, 0, 0, 0, 0, 0, 0, 0, 0, 0, 0, 0, 0, 0, 0, 0, 0, 0, 0], 'token_type_ids': [0, 0, 0, 0, 0, 0, 0, 0, 0, 0, 0, 0, 0, 0, 0, 0, 0, 0, 0, 0, 0, 0, 0, 0, 0, 0, 0, 0, 0, 0, 0, 0, 0, 0, 0, 0, 0, 0, 0, 0, 0, 0, 0, 0, 0, 0, 0, 0, 0, 0, 0, 0, 0, 0, 0, 0, 0, 0, 0, 0, 0, 0, 0, 0, 0, 0, 0, 0, 0, 0, 0, 0, 0, 0, 0, 0, 0, 0, 0, 0, 0, 0, 0, 0, 0, 0, 0, 0, 0, 0, 0, 0, 0, 0, 0, 0, 0, 0, 0, 0, 0, 0, 0, 0, 0, 0, 0, 0, 0, 0, 0, 0, 0, 0, 0, 0, 0, 0, 0, 0, 0, 0, 0, 0, 0, 0, 0, 0], 'attention_mask': [1, 1, 1, 1, 1, 1, 1, 1, 1, 1, 1, 1, 1, 1, 1, 1, 1, 1, 1, 1, 1, 1, 1, 1, 1, 1, 1, 0, 0, 0, 0, 0, 0, 0, 0, 0, 0, 0, 0, 0, 0, 0, 0, 0, 0, 0, 0, 0, 0, 0, 0, 0, 0, 0, 0, 0, 0, 0, 0, 0, 0, 0, 0, 0, 0, 0, 0, 0, 0, 0, 0, 0, 0, 0, 0, 0, 0, 0, 0, 0, 0, 0, 0, 0, 0, 0, 0, 0, 0, 0, 0, 0, 0, 0, 0, 0, 0, 0, 0, 0, 0, 0, 0, 0, 0, 0, 0, 0, 0, 0, 0, 0, 0, 0, 0, 0, 0, 0, 0, 0, 0, 0, 0, 0, 0, 0, 0, 0], 'labels': 0}\n",
            "{'sentence': 'The menu looked good, except for offering the Chilean Sea Bass, but the server does not offer up the specials that were written on the board outside.', 'aspect': 'Chilean Sea Bass', 'polarity': 'negative', 'input_ids': [101, 1996, 12183, 2246, 2204, 1010, 3272, 2005, 5378, 1996, 12091, 2712, 3321, 1010, 2021, 1996, 8241, 2515, 2025, 3749, 2039, 1996, 19247, 2008, 2020, 2517, 2006, 1996, 2604, 2648, 1012, 102, 12091, 2712, 3321, 102, 0, 0, 0, 0, 0, 0, 0, 0, 0, 0, 0, 0, 0, 0, 0, 0, 0, 0, 0, 0, 0, 0, 0, 0, 0, 0, 0, 0, 0, 0, 0, 0, 0, 0, 0, 0, 0, 0, 0, 0, 0, 0, 0, 0, 0, 0, 0, 0, 0, 0, 0, 0, 0, 0, 0, 0, 0, 0, 0, 0, 0, 0, 0, 0, 0, 0, 0, 0, 0, 0, 0, 0, 0, 0, 0, 0, 0, 0, 0, 0, 0, 0, 0, 0, 0, 0, 0, 0, 0, 0, 0, 0], 'token_type_ids': [0, 0, 0, 0, 0, 0, 0, 0, 0, 0, 0, 0, 0, 0, 0, 0, 0, 0, 0, 0, 0, 0, 0, 0, 0, 0, 0, 0, 0, 0, 0, 0, 0, 0, 0, 0, 0, 0, 0, 0, 0, 0, 0, 0, 0, 0, 0, 0, 0, 0, 0, 0, 0, 0, 0, 0, 0, 0, 0, 0, 0, 0, 0, 0, 0, 0, 0, 0, 0, 0, 0, 0, 0, 0, 0, 0, 0, 0, 0, 0, 0, 0, 0, 0, 0, 0, 0, 0, 0, 0, 0, 0, 0, 0, 0, 0, 0, 0, 0, 0, 0, 0, 0, 0, 0, 0, 0, 0, 0, 0, 0, 0, 0, 0, 0, 0, 0, 0, 0, 0, 0, 0, 0, 0, 0, 0, 0, 0], 'attention_mask': [1, 1, 1, 1, 1, 1, 1, 1, 1, 1, 1, 1, 1, 1, 1, 1, 1, 1, 1, 1, 1, 1, 1, 1, 1, 1, 1, 1, 1, 1, 1, 1, 1, 1, 1, 1, 0, 0, 0, 0, 0, 0, 0, 0, 0, 0, 0, 0, 0, 0, 0, 0, 0, 0, 0, 0, 0, 0, 0, 0, 0, 0, 0, 0, 0, 0, 0, 0, 0, 0, 0, 0, 0, 0, 0, 0, 0, 0, 0, 0, 0, 0, 0, 0, 0, 0, 0, 0, 0, 0, 0, 0, 0, 0, 0, 0, 0, 0, 0, 0, 0, 0, 0, 0, 0, 0, 0, 0, 0, 0, 0, 0, 0, 0, 0, 0, 0, 0, 0, 0, 0, 0, 0, 0, 0, 0, 0, 0], 'labels': 0}\n"
          ]
        }
      ]
    },
    {
      "cell_type": "markdown",
      "metadata": {
        "_cell_guid": "8728c80e-239a-4131-89c9-cf99653cb370",
        "_uuid": "23d02477-6dc2-4699-b731-89d16e0f6839",
        "collapsed": false,
        "jupyter": {
          "outputs_hidden": false
        },
        "trusted": true,
        "id": "shpp8F8cPgoR"
      },
      "source": [
        "# Step 6: Set Up LoRA for Fine-Tuning"
      ]
    },
    {
      "cell_type": "code",
      "execution_count": 19,
      "metadata": {
        "_cell_guid": "a3548898-4420-4585-b712-a76dc37743fb",
        "_uuid": "eca46b05-b851-49ba-999c-4b3a830c6c2f",
        "execution": {
          "iopub.execute_input": "2025-05-09T03:53:32.975632Z",
          "iopub.status.busy": "2025-05-09T03:53:32.975362Z",
          "iopub.status.idle": "2025-05-09T03:53:33.325361Z",
          "shell.execute_reply": "2025-05-09T03:53:33.324554Z",
          "shell.execute_reply.started": "2025-05-09T03:53:32.975607Z"
        },
        "jupyter": {
          "outputs_hidden": false
        },
        "trusted": true,
        "colab": {
          "base_uri": "https://localhost:8080/",
          "height": 173,
          "referenced_widgets": [
            "6da51bbdfee342fb8d4ba026fc725c2a",
            "d664df8ac6334ce785cb8fb276ea5368",
            "a39e5b5f1d5f4631be9faff6fb061c8a",
            "6707efd5f66947ba920a8609f63b36af",
            "d4305df6158947788f8ee8254809f90b",
            "ece7270df7924264b5a391b0821f729f",
            "79a06511d4a24b45a7f01f1150444e87",
            "4d67befc37554f918a1ab60e8640f4e2",
            "a3588c1209934da8908aacc44b1be29e",
            "1051479a871d436da1582c5b7a2487e4",
            "186a31aaf5064f7c998cd960c0909e74"
          ]
        },
        "id": "JBzzmwWVPgoR",
        "outputId": "9c36b934-4b5b-4e00-b049-cb3347e7d790"
      },
      "outputs": [
        {
          "output_type": "stream",
          "name": "stderr",
          "text": [
            "Xet Storage is enabled for this repo, but the 'hf_xet' package is not installed. Falling back to regular HTTP download. For better performance, install the package with: `pip install huggingface_hub[hf_xet]` or `pip install hf_xet`\n",
            "WARNING:huggingface_hub.file_download:Xet Storage is enabled for this repo, but the 'hf_xet' package is not installed. Falling back to regular HTTP download. For better performance, install the package with: `pip install huggingface_hub[hf_xet]` or `pip install hf_xet`\n"
          ]
        },
        {
          "output_type": "display_data",
          "data": {
            "text/plain": [
              "model.safetensors:   0%|          | 0.00/440M [00:00<?, ?B/s]"
            ],
            "application/vnd.jupyter.widget-view+json": {
              "version_major": 2,
              "version_minor": 0,
              "model_id": "6da51bbdfee342fb8d4ba026fc725c2a"
            }
          },
          "metadata": {}
        },
        {
          "output_type": "stream",
          "name": "stderr",
          "text": [
            "Some weights of BertForTokenClassification were not initialized from the model checkpoint at bert-base-uncased and are newly initialized: ['classifier.bias', 'classifier.weight']\n",
            "You should probably TRAIN this model on a down-stream task to be able to use it for predictions and inference.\n",
            "Some weights of BertForSequenceClassification were not initialized from the model checkpoint at bert-base-uncased and are newly initialized: ['classifier.bias', 'classifier.weight']\n",
            "You should probably TRAIN this model on a down-stream task to be able to use it for predictions and inference.\n"
          ]
        }
      ],
      "source": [
        "from peft import LoraConfig, get_peft_model\n",
        "from transformers import BertForTokenClassification, AutoModelForSequenceClassification\n",
        "\n",
        "ate_model = BertForTokenClassification.from_pretrained(\"bert-base-uncased\", num_labels=len(label2id), id2label=id2label, label2id=label2id)\n",
        "ate_lora_model = get_peft_model(ate_model, LoraConfig(r=8, lora_alpha=32, lora_dropout=0.1))\n",
        "\n",
        "asc_model = AutoModelForSequenceClassification.from_pretrained(\"bert-base-uncased\", num_labels=3)\n",
        "asc_lora_model = get_peft_model(asc_model, LoraConfig(r=8, lora_alpha=32, lora_dropout=0.1))\n"
      ]
    },
    {
      "cell_type": "markdown",
      "metadata": {
        "_cell_guid": "ef3cb267-0cb0-4478-9668-e8ac9d619505",
        "_uuid": "707d7019-84c2-4936-865d-1a08a8757291",
        "collapsed": false,
        "jupyter": {
          "outputs_hidden": false
        },
        "trusted": true,
        "id": "QnR5L5Q3PgoR"
      },
      "source": [
        "# Step 7: Fine-Tune the Models"
      ]
    },
    {
      "cell_type": "code",
      "source": [
        "from transformers import (\n",
        "    AutoTokenizer,\n",
        "    AutoModelForTokenClassification,\n",
        "    DataCollatorForTokenClassification,\n",
        "    TrainingArguments,\n",
        "    Trainer,\n",
        "    DefaultDataCollator,\n",
        ")\n"
      ],
      "metadata": {
        "id": "HNBELSU9zrgT"
      },
      "execution_count": 28,
      "outputs": []
    },
    {
      "cell_type": "code",
      "source": [
        "# ATE Metrics\n",
        "import numpy as np\n",
        "def compute_metrics_ate(p):\n",
        "    preds = np.argmax(p.predictions, axis=-1).flatten()\n",
        "    labels = p.label_ids.flatten()\n",
        "    mask = labels != 0\n",
        "    return dict(zip(['precision', 'recall', 'f1', 'accuracy'],\n",
        "                    precision_recall_fscore_support(labels[mask], preds[mask], average='binary')[:3] +\n",
        "                    (accuracy_score(labels[mask], preds[mask]),)))\n",
        "\n",
        "ate_trainer = Trainer(\n",
        "    model=ate_lora_model,\n",
        "    args=TrainingArguments(output_dir=\"./results_ate\", per_device_train_batch_size=16, per_device_eval_batch_size=16,\n",
        "                           num_train_epochs=3, eval_strategy=\"epoch\", save_strategy=\"epoch\", logging_dir=\"./logs\"),\n",
        "    data_collator=DataCollatorForTokenClassification(tokenizer),\n",
        "    train_dataset=train_ate_dataset,\n",
        "    eval_dataset=eval_ate_dataset,\n",
        "    tokenizer=tokenizer,\n",
        "    compute_metrics=compute_metrics_ate\n",
        ")\n"
      ],
      "metadata": {
        "colab": {
          "base_uri": "https://localhost:8080/"
        },
        "id": "Rc0fC2O6SgYm",
        "outputId": "70dcf992-b0e2-4e3a-882c-5da2d0edaa50"
      },
      "execution_count": 25,
      "outputs": [
        {
          "output_type": "stream",
          "name": "stderr",
          "text": [
            "<ipython-input-25-4ac1e22c1fb9>:11: FutureWarning: `tokenizer` is deprecated and will be removed in version 5.0.0 for `Trainer.__init__`. Use `processing_class` instead.\n",
            "  ate_trainer = Trainer(\n",
            "No label_names provided for model class `PeftModel`. Since `PeftModel` hides base models input arguments, if label_names is not given, label_names can't be set automatically within `Trainer`. Note that empty label_names list will be used instead.\n"
          ]
        }
      ]
    },
    {
      "cell_type": "code",
      "execution_count": 26,
      "metadata": {
        "_cell_guid": "f3f4fc40-5b3f-446a-8c6b-ce4fcd159a75",
        "_uuid": "a7cd95ba-6134-4a73-9ad5-5082b95bc1f5",
        "collapsed": true,
        "execution": {
          "iopub.execute_input": "2025-05-09T03:58:22.314209Z",
          "iopub.status.busy": "2025-05-09T03:58:22.313625Z",
          "iopub.status.idle": "2025-05-09T03:58:24.897527Z",
          "shell.execute_reply": "2025-05-09T03:58:24.896303Z",
          "shell.execute_reply.started": "2025-05-09T03:58:22.314183Z"
        },
        "jupyter": {
          "outputs_hidden": true
        },
        "trusted": true,
        "colab": {
          "base_uri": "https://localhost:8080/",
          "height": 204
        },
        "id": "acMXfb3cPgoR",
        "outputId": "0457899c-021b-4799-ba97-cf5e867eb64f"
      },
      "outputs": [
        {
          "output_type": "display_data",
          "data": {
            "text/plain": [
              "<IPython.core.display.HTML object>"
            ],
            "text/html": [
              "\n",
              "    <div>\n",
              "      \n",
              "      <progress value='1029' max='1029' style='width:300px; height:20px; vertical-align: middle;'></progress>\n",
              "      [1029/1029 04:17, Epoch 3/3]\n",
              "    </div>\n",
              "    <table border=\"1\" class=\"dataframe\">\n",
              "  <thead>\n",
              " <tr style=\"text-align: left;\">\n",
              "      <th>Epoch</th>\n",
              "      <th>Training Loss</th>\n",
              "      <th>Validation Loss</th>\n",
              "    </tr>\n",
              "  </thead>\n",
              "  <tbody>\n",
              "    <tr>\n",
              "      <td>1</td>\n",
              "      <td>No log</td>\n",
              "      <td>No log</td>\n",
              "    </tr>\n",
              "    <tr>\n",
              "      <td>2</td>\n",
              "      <td>0.207100</td>\n",
              "      <td>No log</td>\n",
              "    </tr>\n",
              "    <tr>\n",
              "      <td>3</td>\n",
              "      <td>0.161200</td>\n",
              "      <td>No log</td>\n",
              "    </tr>\n",
              "  </tbody>\n",
              "</table><p>"
            ]
          },
          "metadata": {}
        },
        {
          "output_type": "execute_result",
          "data": {
            "text/plain": [
              "TrainOutput(global_step=1029, training_loss=0.1831847914685545, metrics={'train_runtime': 257.9949, 'train_samples_per_second': 63.687, 'train_steps_per_second': 3.988, 'total_flos': 1077072953386752.0, 'train_loss': 0.1831847914685545, 'epoch': 3.0})"
            ]
          },
          "metadata": {},
          "execution_count": 26
        }
      ],
      "source": [
        "# Train\n",
        "ate_trainer.train()"
      ]
    },
    {
      "cell_type": "code",
      "source": [
        "# ASC Metrics\n",
        "def compute_metrics_asc(p):\n",
        "    preds = np.argmax(p.predictions, axis=1)\n",
        "    labels = p.label_ids\n",
        "    precision, recall, f1, _ = precision_recall_fscore_support(labels, preds, average='weighted')\n",
        "    return {\n",
        "        'accuracy': accuracy_score(labels, preds),\n",
        "        'precision': precision,\n",
        "        'recall': recall,\n",
        "        'f1': f1,\n",
        "        'confusion_matrix': confusion_matrix(labels, preds).tolist()\n",
        "    }\n",
        "\n",
        "asc_trainer = Trainer(\n",
        "    model=asc_lora_model,\n",
        "    args=TrainingArguments(output_dir=\"./results_asc\", per_device_train_batch_size=16, per_device_eval_batch_size=16,\n",
        "                           num_train_epochs=3, eval_strategy=\"epoch\", logging_strategy=\"steps\", logging_steps=10,\n",
        "                           save_strategy=\"epoch\", logging_dir=\"./logs\"),\n",
        "    data_collator=DefaultDataCollator(),\n",
        "    train_dataset=train_asc_dataset,\n",
        "    eval_dataset=eval_asc_dataset,\n",
        "    tokenizer=tokenizer,\n",
        "    compute_metrics=compute_metrics_asc\n",
        ")"
      ],
      "metadata": {
        "colab": {
          "base_uri": "https://localhost:8080/"
        },
        "id": "R1b2bWfkSlxs",
        "outputId": "e07d7a03-ddab-47ac-c5a8-56835c8a064d"
      },
      "execution_count": 30,
      "outputs": [
        {
          "output_type": "stream",
          "name": "stderr",
          "text": [
            "<ipython-input-30-536f2c810736>:14: FutureWarning: `tokenizer` is deprecated and will be removed in version 5.0.0 for `Trainer.__init__`. Use `processing_class` instead.\n",
            "  asc_trainer = Trainer(\n",
            "No label_names provided for model class `PeftModel`. Since `PeftModel` hides base models input arguments, if label_names is not given, label_names can't be set automatically within `Trainer`. Note that empty label_names list will be used instead.\n"
          ]
        }
      ]
    },
    {
      "cell_type": "code",
      "execution_count": 31,
      "metadata": {
        "_cell_guid": "590520f4-5de6-47e4-bf01-851f604da6a4",
        "_uuid": "42ab48bc-302a-4047-b2b0-2b5500fe1678",
        "execution": {
          "iopub.status.busy": "2025-05-09T03:56:10.356148Z",
          "iopub.status.idle": "2025-05-09T03:56:10.356374Z",
          "shell.execute_reply": "2025-05-09T03:56:10.356278Z",
          "shell.execute_reply.started": "2025-05-09T03:56:10.356268Z"
        },
        "jupyter": {
          "outputs_hidden": false
        },
        "trusted": true,
        "colab": {
          "base_uri": "https://localhost:8080/",
          "height": 204
        },
        "id": "udT7Q2FJPgoS",
        "outputId": "ce9c78c0-7244-4916-da16-275699e953e0"
      },
      "outputs": [
        {
          "output_type": "display_data",
          "data": {
            "text/plain": [
              "<IPython.core.display.HTML object>"
            ],
            "text/html": [
              "\n",
              "    <div>\n",
              "      \n",
              "      <progress value='1023' max='1023' style='width:300px; height:20px; vertical-align: middle;'></progress>\n",
              "      [1023/1023 04:18, Epoch 3/3]\n",
              "    </div>\n",
              "    <table border=\"1\" class=\"dataframe\">\n",
              "  <thead>\n",
              " <tr style=\"text-align: left;\">\n",
              "      <th>Epoch</th>\n",
              "      <th>Training Loss</th>\n",
              "      <th>Validation Loss</th>\n",
              "    </tr>\n",
              "  </thead>\n",
              "  <tbody>\n",
              "    <tr>\n",
              "      <td>1</td>\n",
              "      <td>0.949400</td>\n",
              "      <td>No log</td>\n",
              "    </tr>\n",
              "    <tr>\n",
              "      <td>2</td>\n",
              "      <td>0.928100</td>\n",
              "      <td>No log</td>\n",
              "    </tr>\n",
              "    <tr>\n",
              "      <td>3</td>\n",
              "      <td>0.767800</td>\n",
              "      <td>No log</td>\n",
              "    </tr>\n",
              "  </tbody>\n",
              "</table><p>"
            ]
          },
          "metadata": {}
        },
        {
          "output_type": "execute_result",
          "data": {
            "text/plain": [
              "TrainOutput(global_step=1023, training_loss=0.8872581616641256, metrics={'train_runtime': 258.8587, 'train_samples_per_second': 63.104, 'train_steps_per_second': 3.952, 'total_flos': 1078189173262080.0, 'train_loss': 0.8872581616641256, 'epoch': 3.0})"
            ]
          },
          "metadata": {},
          "execution_count": 31
        }
      ],
      "source": [
        "asc_trainer.train()"
      ]
    },
    {
      "cell_type": "markdown",
      "metadata": {
        "_cell_guid": "03d9fecc-eaed-4390-8a3a-68484eb3f293",
        "_uuid": "41d0facb-4333-42d8-8a95-53217ba766e9",
        "collapsed": false,
        "jupyter": {
          "outputs_hidden": false
        },
        "trusted": true,
        "id": "REMDgsRSPgoS"
      },
      "source": [
        "# Step 8: Evaluate the Models\n"
      ]
    },
    {
      "cell_type": "code",
      "execution_count": 32,
      "metadata": {
        "_cell_guid": "ee319046-a7d0-4187-bcce-ac5ab3f03728",
        "_uuid": "1aceec90-f97a-40e5-b7e0-f6f3b9cb0f44",
        "execution": {
          "iopub.status.busy": "2025-05-09T03:54:52.324710Z",
          "iopub.status.idle": "2025-05-09T03:54:52.325042Z",
          "shell.execute_reply": "2025-05-09T03:54:52.324910Z",
          "shell.execute_reply.started": "2025-05-09T03:54:52.324893Z"
        },
        "jupyter": {
          "outputs_hidden": false
        },
        "trusted": true,
        "id": "qqsrtfMFPgoS",
        "colab": {
          "base_uri": "https://localhost:8080/",
          "height": 54
        },
        "outputId": "2feb1a8b-23d4-4718-b453-8935e85990ed"
      },
      "outputs": [
        {
          "output_type": "display_data",
          "data": {
            "text/plain": [
              "<IPython.core.display.HTML object>"
            ],
            "text/html": [
              "\n",
              "    <div>\n",
              "      \n",
              "      <progress value='39' max='39' style='width:300px; height:20px; vertical-align: middle;'></progress>\n",
              "      [39/39 00:04]\n",
              "    </div>\n",
              "    "
            ]
          },
          "metadata": {}
        },
        {
          "output_type": "stream",
          "name": "stdout",
          "text": [
            "ATE Evaluation Results: {'eval_runtime': 4.4341, 'eval_samples_per_second': 137.346, 'eval_steps_per_second': 8.796, 'epoch': 3.0}\n"
          ]
        }
      ],
      "source": [
        "# Evaluate the model on the evaluation dataset\n",
        "ate_results = ate_trainer.evaluate()\n",
        "\n",
        "print(\"ATE Evaluation Results:\", ate_results)"
      ]
    },
    {
      "cell_type": "code",
      "execution_count": 33,
      "metadata": {
        "_cell_guid": "eb29aefc-2fa0-414d-8030-8a14b78bac7e",
        "_uuid": "5abff250-d583-4f10-a23c-c201091c9d0d",
        "execution": {
          "iopub.status.busy": "2025-05-09T03:54:52.326159Z",
          "iopub.status.idle": "2025-05-09T03:54:52.326507Z",
          "shell.execute_reply": "2025-05-09T03:54:52.326325Z",
          "shell.execute_reply.started": "2025-05-09T03:54:52.326310Z"
        },
        "jupyter": {
          "outputs_hidden": false
        },
        "trusted": true,
        "id": "7eW9XO2IPgoS",
        "colab": {
          "base_uri": "https://localhost:8080/",
          "height": 54
        },
        "outputId": "d3dfaf5d-b53d-472c-e933-43cfb8116928"
      },
      "outputs": [
        {
          "output_type": "display_data",
          "data": {
            "text/plain": [
              "<IPython.core.display.HTML object>"
            ],
            "text/html": [
              "\n",
              "    <div>\n",
              "      \n",
              "      <progress value='38' max='38' style='width:300px; height:20px; vertical-align: middle;'></progress>\n",
              "      [38/38 00:04]\n",
              "    </div>\n",
              "    "
            ]
          },
          "metadata": {}
        },
        {
          "output_type": "stream",
          "name": "stdout",
          "text": [
            "ASC Evaluation Results: {'eval_runtime': 4.4125, 'eval_samples_per_second': 137.337, 'eval_steps_per_second': 8.612, 'epoch': 3.0}\n"
          ]
        }
      ],
      "source": [
        "asc_results = asc_trainer.evaluate()\n",
        "\n",
        "print(\"ASC Evaluation Results:\", asc_results)"
      ]
    },
    {
      "cell_type": "code",
      "execution_count": 34,
      "metadata": {
        "_cell_guid": "ca7801d8-f543-4439-9aa6-356cc003e6f0",
        "_uuid": "faef0756-be41-4281-8b19-4b1eb8af6816",
        "collapsed": true,
        "execution": {
          "iopub.status.busy": "2025-05-09T03:54:52.327879Z",
          "iopub.status.idle": "2025-05-09T03:54:52.328198Z",
          "shell.execute_reply": "2025-05-09T03:54:52.328054Z",
          "shell.execute_reply.started": "2025-05-09T03:54:52.328040Z"
        },
        "jupyter": {
          "outputs_hidden": false
        },
        "trusted": true,
        "id": "-qtzn_WwPgoS",
        "colab": {
          "base_uri": "https://localhost:8080/"
        },
        "outputId": "19432514-6711-47a8-b513-293db1754a1e"
      },
      "outputs": [
        {
          "output_type": "stream",
          "name": "stdout",
          "text": [
            "{'eval_runtime': 4.6473, 'eval_samples_per_second': 131.042, 'eval_steps_per_second': 8.392, 'epoch': 1.0, 'step': 343}\n",
            "{'loss': 0.2071, 'grad_norm': 0.5380362868309021, 'learning_rate': 2.575315840621963e-05, 'epoch': 1.4577259475218658, 'step': 500}\n",
            "{'eval_runtime': 4.5666, 'eval_samples_per_second': 133.358, 'eval_steps_per_second': 8.54, 'epoch': 2.0, 'step': 686}\n",
            "{'loss': 0.1612, 'grad_norm': 1.06669020652771, 'learning_rate': 1.457725947521866e-06, 'epoch': 2.9154518950437316, 'step': 1000}\n",
            "{'eval_runtime': 4.494, 'eval_samples_per_second': 135.514, 'eval_steps_per_second': 8.678, 'epoch': 3.0, 'step': 1029}\n",
            "{'train_runtime': 257.9949, 'train_samples_per_second': 63.687, 'train_steps_per_second': 3.988, 'total_flos': 1077072953386752.0, 'train_loss': 0.1831847914685545, 'epoch': 3.0, 'step': 1029}\n",
            "{'eval_runtime': 4.4341, 'eval_samples_per_second': 137.346, 'eval_steps_per_second': 8.796, 'epoch': 3.0, 'step': 1029}\n"
          ]
        }
      ],
      "source": [
        "# Check if 'loss' is being logged in the training process\n",
        "for entry in ate_trainer.state.log_history:\n",
        "    print(entry)"
      ]
    },
    {
      "cell_type": "code",
      "execution_count": 35,
      "metadata": {
        "_cell_guid": "c5ba26d9-b6a9-4605-bb19-f5f5f1293f9f",
        "_uuid": "682e8f03-223d-4aca-80ca-768d6fa9c94a",
        "execution": {
          "iopub.status.busy": "2025-05-09T03:54:52.329164Z",
          "iopub.status.idle": "2025-05-09T03:54:52.329449Z",
          "shell.execute_reply": "2025-05-09T03:54:52.329303Z",
          "shell.execute_reply.started": "2025-05-09T03:54:52.329288Z"
        },
        "jupyter": {
          "outputs_hidden": false
        },
        "trusted": true,
        "id": "idBOtGcfPgoS",
        "colab": {
          "base_uri": "https://localhost:8080/"
        },
        "outputId": "dffde0cd-b5b5-46c2-87e8-1656a4f237fe"
      },
      "outputs": [
        {
          "output_type": "stream",
          "name": "stdout",
          "text": [
            "{'eval_runtime': 4.4341, 'eval_samples_per_second': 137.346, 'eval_steps_per_second': 8.796, 'epoch': 3.0}\n",
            "{'eval_runtime': 4.4125, 'eval_samples_per_second': 137.337, 'eval_steps_per_second': 8.612, 'epoch': 3.0}\n"
          ]
        }
      ],
      "source": [
        "# Check if eval_loss is available in ate_results\n",
        "print(ate_results)\n",
        "print(asc_results)"
      ]
    },
    {
      "cell_type": "code",
      "source": [
        "print(ate_lora_model)"
      ],
      "metadata": {
        "id": "ssNgo82J3gNu",
        "outputId": "6155bf95-26f0-4bf4-b374-d31d6dd1f0ea",
        "colab": {
          "base_uri": "https://localhost:8080/"
        }
      },
      "execution_count": 42,
      "outputs": [
        {
          "output_type": "stream",
          "name": "stdout",
          "text": [
            "PeftModel(\n",
            "  (base_model): LoraModel(\n",
            "    (model): BertForTokenClassification(\n",
            "      (bert): BertModel(\n",
            "        (embeddings): BertEmbeddings(\n",
            "          (word_embeddings): Embedding(30522, 768, padding_idx=0)\n",
            "          (position_embeddings): Embedding(512, 768)\n",
            "          (token_type_embeddings): Embedding(2, 768)\n",
            "          (LayerNorm): LayerNorm((768,), eps=1e-12, elementwise_affine=True)\n",
            "          (dropout): Dropout(p=0.1, inplace=False)\n",
            "        )\n",
            "        (encoder): BertEncoder(\n",
            "          (layer): ModuleList(\n",
            "            (0-11): 12 x BertLayer(\n",
            "              (attention): BertAttention(\n",
            "                (self): BertSdpaSelfAttention(\n",
            "                  (query): lora.Linear(\n",
            "                    (base_layer): Linear(in_features=768, out_features=768, bias=True)\n",
            "                    (lora_dropout): ModuleDict(\n",
            "                      (default): Dropout(p=0.1, inplace=False)\n",
            "                    )\n",
            "                    (lora_A): ModuleDict(\n",
            "                      (default): Linear(in_features=768, out_features=8, bias=False)\n",
            "                    )\n",
            "                    (lora_B): ModuleDict(\n",
            "                      (default): Linear(in_features=8, out_features=768, bias=False)\n",
            "                    )\n",
            "                    (lora_embedding_A): ParameterDict()\n",
            "                    (lora_embedding_B): ParameterDict()\n",
            "                    (lora_magnitude_vector): ModuleDict()\n",
            "                  )\n",
            "                  (key): Linear(in_features=768, out_features=768, bias=True)\n",
            "                  (value): lora.Linear(\n",
            "                    (base_layer): Linear(in_features=768, out_features=768, bias=True)\n",
            "                    (lora_dropout): ModuleDict(\n",
            "                      (default): Dropout(p=0.1, inplace=False)\n",
            "                    )\n",
            "                    (lora_A): ModuleDict(\n",
            "                      (default): Linear(in_features=768, out_features=8, bias=False)\n",
            "                    )\n",
            "                    (lora_B): ModuleDict(\n",
            "                      (default): Linear(in_features=8, out_features=768, bias=False)\n",
            "                    )\n",
            "                    (lora_embedding_A): ParameterDict()\n",
            "                    (lora_embedding_B): ParameterDict()\n",
            "                    (lora_magnitude_vector): ModuleDict()\n",
            "                  )\n",
            "                  (dropout): Dropout(p=0.1, inplace=False)\n",
            "                )\n",
            "                (output): BertSelfOutput(\n",
            "                  (dense): Linear(in_features=768, out_features=768, bias=True)\n",
            "                  (LayerNorm): LayerNorm((768,), eps=1e-12, elementwise_affine=True)\n",
            "                  (dropout): Dropout(p=0.1, inplace=False)\n",
            "                )\n",
            "              )\n",
            "              (intermediate): BertIntermediate(\n",
            "                (dense): Linear(in_features=768, out_features=3072, bias=True)\n",
            "                (intermediate_act_fn): GELUActivation()\n",
            "              )\n",
            "              (output): BertOutput(\n",
            "                (dense): Linear(in_features=3072, out_features=768, bias=True)\n",
            "                (LayerNorm): LayerNorm((768,), eps=1e-12, elementwise_affine=True)\n",
            "                (dropout): Dropout(p=0.1, inplace=False)\n",
            "              )\n",
            "            )\n",
            "          )\n",
            "        )\n",
            "      )\n",
            "      (dropout): Dropout(p=0.1, inplace=False)\n",
            "      (classifier): Linear(in_features=768, out_features=3, bias=True)\n",
            "    )\n",
            "  )\n",
            ")\n"
          ]
        }
      ]
    },
    {
      "cell_type": "code",
      "source": [
        "print(asc_lora_model)"
      ],
      "metadata": {
        "id": "iaOYJeb33oj7",
        "outputId": "aa2795b7-7706-4fc7-f3f3-3a118887b614",
        "colab": {
          "base_uri": "https://localhost:8080/"
        }
      },
      "execution_count": 43,
      "outputs": [
        {
          "output_type": "stream",
          "name": "stdout",
          "text": [
            "PeftModel(\n",
            "  (base_model): LoraModel(\n",
            "    (model): BertForSequenceClassification(\n",
            "      (bert): BertModel(\n",
            "        (embeddings): BertEmbeddings(\n",
            "          (word_embeddings): Embedding(30522, 768, padding_idx=0)\n",
            "          (position_embeddings): Embedding(512, 768)\n",
            "          (token_type_embeddings): Embedding(2, 768)\n",
            "          (LayerNorm): LayerNorm((768,), eps=1e-12, elementwise_affine=True)\n",
            "          (dropout): Dropout(p=0.1, inplace=False)\n",
            "        )\n",
            "        (encoder): BertEncoder(\n",
            "          (layer): ModuleList(\n",
            "            (0-11): 12 x BertLayer(\n",
            "              (attention): BertAttention(\n",
            "                (self): BertSdpaSelfAttention(\n",
            "                  (query): lora.Linear(\n",
            "                    (base_layer): Linear(in_features=768, out_features=768, bias=True)\n",
            "                    (lora_dropout): ModuleDict(\n",
            "                      (default): Dropout(p=0.1, inplace=False)\n",
            "                    )\n",
            "                    (lora_A): ModuleDict(\n",
            "                      (default): Linear(in_features=768, out_features=8, bias=False)\n",
            "                    )\n",
            "                    (lora_B): ModuleDict(\n",
            "                      (default): Linear(in_features=8, out_features=768, bias=False)\n",
            "                    )\n",
            "                    (lora_embedding_A): ParameterDict()\n",
            "                    (lora_embedding_B): ParameterDict()\n",
            "                    (lora_magnitude_vector): ModuleDict()\n",
            "                  )\n",
            "                  (key): Linear(in_features=768, out_features=768, bias=True)\n",
            "                  (value): lora.Linear(\n",
            "                    (base_layer): Linear(in_features=768, out_features=768, bias=True)\n",
            "                    (lora_dropout): ModuleDict(\n",
            "                      (default): Dropout(p=0.1, inplace=False)\n",
            "                    )\n",
            "                    (lora_A): ModuleDict(\n",
            "                      (default): Linear(in_features=768, out_features=8, bias=False)\n",
            "                    )\n",
            "                    (lora_B): ModuleDict(\n",
            "                      (default): Linear(in_features=8, out_features=768, bias=False)\n",
            "                    )\n",
            "                    (lora_embedding_A): ParameterDict()\n",
            "                    (lora_embedding_B): ParameterDict()\n",
            "                    (lora_magnitude_vector): ModuleDict()\n",
            "                  )\n",
            "                  (dropout): Dropout(p=0.1, inplace=False)\n",
            "                )\n",
            "                (output): BertSelfOutput(\n",
            "                  (dense): Linear(in_features=768, out_features=768, bias=True)\n",
            "                  (LayerNorm): LayerNorm((768,), eps=1e-12, elementwise_affine=True)\n",
            "                  (dropout): Dropout(p=0.1, inplace=False)\n",
            "                )\n",
            "              )\n",
            "              (intermediate): BertIntermediate(\n",
            "                (dense): Linear(in_features=768, out_features=3072, bias=True)\n",
            "                (intermediate_act_fn): GELUActivation()\n",
            "              )\n",
            "              (output): BertOutput(\n",
            "                (dense): Linear(in_features=3072, out_features=768, bias=True)\n",
            "                (LayerNorm): LayerNorm((768,), eps=1e-12, elementwise_affine=True)\n",
            "                (dropout): Dropout(p=0.1, inplace=False)\n",
            "              )\n",
            "            )\n",
            "          )\n",
            "        )\n",
            "        (pooler): BertPooler(\n",
            "          (dense): Linear(in_features=768, out_features=768, bias=True)\n",
            "          (activation): Tanh()\n",
            "        )\n",
            "      )\n",
            "      (dropout): Dropout(p=0.1, inplace=False)\n",
            "      (classifier): Linear(in_features=768, out_features=3, bias=True)\n",
            "    )\n",
            "  )\n",
            ")\n"
          ]
        }
      ]
    },
    {
      "cell_type": "code",
      "source": [
        "import matplotlib.pyplot as plt\n",
        "\n",
        "# Example loss values over steps for visualization (replace with actual data)\n",
        "train_losses = ate_trainer.state.log_history\n",
        "\n",
        "# Extracting the loss values and corresponding steps\n",
        "steps = []\n",
        "losses = []\n",
        "\n",
        "for entry in train_losses:\n",
        "    if 'loss' in entry:  # Check if loss exists in the entry\n",
        "        steps.append(entry['step'])\n",
        "        losses.append(entry['loss'])\n",
        "\n",
        "# Plotting the training loss\n",
        "plt.figure(figsize=(16, 10))\n",
        "plt.plot(steps, losses, label='Training Loss', color='blue', marker='o')\n",
        "\n",
        "plt.title('Training Loss Over Steps')\n",
        "plt.xlabel('Steps')\n",
        "plt.ylabel('Loss')\n",
        "plt.legend()\n",
        "plt.grid(True)\n",
        "plt.show()\n"
      ],
      "metadata": {
        "id": "udQW4uQJY8_j",
        "colab": {
          "base_uri": "https://localhost:8080/",
          "height": 872
        },
        "outputId": "2c7d7ee0-7598-4e4d-9bb8-01dc88b95981"
      },
      "execution_count": 36,
      "outputs": [
        {
          "output_type": "display_data",
          "data": {
            "text/plain": [
              "<Figure size 1600x1000 with 1 Axes>"
            ],
            "image/png": "[encoded data removed]"
          },
          "metadata": {}
        }
      ]
    },
    {
      "cell_type": "markdown",
      "source": [
        "# Step 9: Using the Models\n"
      ],
      "metadata": {
        "id": "shKolGYVaTPD"
      }
    },
    {
      "cell_type": "code",
      "source": [
        "import torch\n",
        "# Check if CUDA (GPU) is available\n",
        "device = torch.device(\"cuda\" if torch.cuda.is_available() else \"cpu\")\n",
        "\n",
        "# Move the models to the same device\n",
        "ate_lora_model.to(device)\n",
        "print('ate model to', device)\n",
        "asc_lora_model.to(device)\n",
        "print('asc model to', device)"
      ],
      "metadata": {
        "collapsed": true,
        "id": "A9Buv-r1auBz",
        "colab": {
          "base_uri": "https://localhost:8080/"
        },
        "outputId": "0f150273-ddb5-44ac-b1fc-bb6fb0abaeae"
      },
      "execution_count": 39,
      "outputs": [
        {
          "output_type": "stream",
          "name": "stdout",
          "text": [
            "ate model to cuda\n",
            "asc model to cuda\n"
          ]
        }
      ]
    },
    {
      "cell_type": "code",
      "source": [
        "def predict_ate(text, model, tokenizer, label_map, device):\n",
        "    model.eval()\n",
        "\n",
        "    # Tokenize\n",
        "    encoded = tokenizer(\n",
        "        text,\n",
        "        return_tensors='pt',\n",
        "        truncation=True,\n",
        "        padding=True,\n",
        "        max_length=128,\n",
        "        return_offsets_mapping=True,\n",
        "        return_attention_mask=True\n",
        "    )\n",
        "    offset_mapping = encoded.pop('offset_mapping')\n",
        "    inputs = {k: v.to(device) for k, v in encoded.items()}\n",
        "\n",
        "    # Get predictions\n",
        "    with torch.no_grad():\n",
        "        outputs = model(**inputs)\n",
        "    predictions = outputs.logits.argmax(dim=-1).squeeze().cpu().numpy()\n",
        "\n",
        "    tokens = tokenizer.convert_ids_to_tokens(inputs['input_ids'].squeeze())\n",
        "    offset_mapping = offset_mapping.squeeze().cpu().numpy()\n",
        "\n",
        "    predicted_labels = []\n",
        "    aligned_tokens = []\n",
        "\n",
        "    for token, offset, pred_id in zip(tokens, offset_mapping, predictions):\n",
        "        if offset[0] == 0 and offset[1] == 0:\n",
        "            continue\n",
        "        aligned_tokens.append(token)\n",
        "        predicted_labels.append(label_map[pred_id])\n",
        "\n",
        "    # Merge tokens into aspect terms properly\n",
        "    aspect_terms = []\n",
        "    current_aspect = []\n",
        "    prev_label = 'O'\n",
        "\n",
        "    for token, label in zip(aligned_tokens, predicted_labels):\n",
        "        if label == 'B-ASPECT':\n",
        "            if prev_label != 'O' and current_aspect:\n",
        "                aspect_terms.append(\"\".join(current_aspect).replace(\"##\", \"\"))\n",
        "                current_aspect = []\n",
        "            current_aspect.append(token)\n",
        "        elif label == 'I-ASPECT':\n",
        "            if current_aspect:\n",
        "                current_aspect.append(token)\n",
        "        else:  # label == 'O'\n",
        "            if current_aspect:\n",
        "                aspect_terms.append(\"\".join(current_aspect).replace(\"##\", \"\"))\n",
        "                current_aspect = []\n",
        "        prev_label = label\n",
        "\n",
        "    if current_aspect:\n",
        "        aspect_terms.append(\"\".join(current_aspect).replace(\"##\", \"\"))\n",
        "\n",
        "    return aligned_tokens, predicted_labels, aspect_terms\n"
      ],
      "metadata": {
        "id": "F8Njua2QOEeA"
      },
      "execution_count": 55,
      "outputs": []
    },
    {
      "cell_type": "code",
      "source": [
        "test_sentences = [\n",
        "    \"The pizza was delicious but the service was bad\",\n",
        "    \"The vibe was awesome\",\n",
        "    \"The burger was too salty\"\n",
        "]\n",
        "\n",
        "for sentence in test_sentences:\n",
        "    tokens, labels, aspects = predict_ate(sentence, ate_lora_model, tokenizer, id2label, device)\n",
        "    print(f\"Sentence: {sentence}\")\n",
        "    print(\"Tokens:\", tokens)\n",
        "    print(\"Labels:\", labels)\n",
        "    print(\"Extracted Aspect Terms:\", aspects)\n",
        "    print(\"-\" * 50)\n",
        "\n"
      ],
      "metadata": {
        "colab": {
          "base_uri": "https://localhost:8080/"
        },
        "id": "s2ybEiX8N60b",
        "outputId": "0ea5783d-d24b-444a-f8ab-6e460d36ad7f"
      },
      "execution_count": 63,
      "outputs": [
        {
          "output_type": "stream",
          "name": "stdout",
          "text": [
            "Sentence: The pizza was delicious but the service was bad\n",
            "Tokens: ['the', 'pizza', 'was', 'delicious', 'but', 'the', 'service', 'was', 'bad']\n",
            "Labels: ['O', 'B-ASPECT', 'O', 'O', 'O', 'O', 'B-ASPECT', 'O', 'O']\n",
            "Extracted Aspect Terms: ['pizza', 'service']\n",
            "--------------------------------------------------\n",
            "Sentence: The vibe was awesome\n",
            "Tokens: ['the', 'vibe', 'was', 'awesome']\n",
            "Labels: ['O', 'B-ASPECT', 'O', 'O']\n",
            "Extracted Aspect Terms: ['vibe']\n",
            "--------------------------------------------------\n",
            "Sentence: The burger was too salty\n",
            "Tokens: ['the', 'burger', 'was', 'too', 'salty']\n",
            "Labels: ['O', 'B-ASPECT', 'O', 'O', 'O']\n",
            "Extracted Aspect Terms: ['burger']\n",
            "--------------------------------------------------\n"
          ]
        }
      ]
    },
    {
      "cell_type": "code",
      "source": [
        "# Dummy APC model setup (replace with your actual model)\n",
        "apc_tokenizer = BertTokenizerFast.from_pretrained('bert-base-uncased')\n",
        "apc_model = asc_lora_model\n",
        "apc_model.eval()\n",
        "\n",
        "# Sentiment map (adjust according to your model's output)\n",
        "id2sentiment = {0: 'negative', 1: 'neutral', 2: 'positive'}\n",
        "\n",
        "# Predict sentiment for a given aspect term within its sentence\n",
        "def predict_apc(sentence, aspect, model, tokenizer, device):\n",
        "    # Format input as required by your model (e.g., \"[CLS] sentence [SEP] aspect [SEP]\")\n",
        "    inputs = tokenizer(\n",
        "        sentence,\n",
        "        aspect,\n",
        "        return_tensors='pt',\n",
        "        padding=True,\n",
        "        truncation=True,\n",
        "        max_length=128\n",
        "    ).to(device)\n",
        "\n",
        "    with torch.no_grad():\n",
        "        outputs = model(**inputs)\n",
        "        pred = torch.argmax(outputs.logits, dim=-1).item()\n",
        "\n",
        "    return id2sentiment[pred]\n"
      ],
      "metadata": {
        "id": "iC5GRbBGVTL3"
      },
      "execution_count": 66,
      "outputs": []
    },
    {
      "cell_type": "code",
      "source": [
        "predict_apc('The pizza was delicious but the service was bad',\n",
        "            'pizza',\n",
        "            asc_lora_model,\n",
        "            tokenizer,\n",
        "            device\n",
        "            )"
      ],
      "metadata": {
        "id": "FYQbsMd_59Wd",
        "outputId": "54c12d3e-772a-4953-c24c-c8198f2a8fe9",
        "colab": {
          "base_uri": "https://localhost:8080/",
          "height": 35
        }
      },
      "execution_count": 68,
      "outputs": [
        {
          "output_type": "execute_result",
          "data": {
            "text/plain": [
              "'positive'"
            ],
            "application/vnd.google.colaboratory.intrinsic+json": {
              "type": "string"
            }
          },
          "metadata": {},
          "execution_count": 68
        }
      ]
    },
    {
      "cell_type": "code",
      "source": [
        "def analyze_aspect_sentiments(text, ate_model, ate_tokenizer, apc_model, apc_tokenizer, device, label_map):\n",
        "    # Step 1: ATE Prediction\n",
        "    _, _, aspect_terms = predict_ate(text, ate_model, ate_tokenizer, label_map, device)\n",
        "\n",
        "    # Step 2: APC for each aspect\n",
        "    aspect_sentiments = {}\n",
        "    for aspect in aspect_terms:\n",
        "        sentiment = predict_apc(text, aspect, apc_model, apc_tokenizer, device)\n",
        "        aspect_sentiments[aspect] = sentiment\n",
        "\n",
        "    return aspect_sentiments"
      ],
      "metadata": {
        "id": "7mjssWNs6lQ4"
      },
      "execution_count": 69,
      "outputs": []
    },
    {
      "cell_type": "code",
      "source": [
        "text = input()\n",
        "analyze_aspect_sentiments(text, ate_lora_model, tokenizer, asc_lora_model, apc_tokenizer, device, id2label)"
      ],
      "metadata": {
        "id": "jzttjj_L8e3Z",
        "outputId": "a582fe32-2b18-42ef-926b-4367c4bbdc2e",
        "colab": {
          "base_uri": "https://localhost:8080/"
        }
      },
      "execution_count": 70,
      "outputs": [
        {
          "name": "stdout",
          "output_type": "stream",
          "text": [
            "The pizza was delicious but the service was bad\n"
          ]
        },
        {
          "output_type": "execute_result",
          "data": {
            "text/plain": [
              "{'pizza': 'positive', 'service': 'negative'}"
            ]
          },
          "metadata": {},
          "execution_count": 70
        }
      ]
    },
    {
      "cell_type": "code",
      "source": [],
      "metadata": {
        "id": "kFpM9JJf81-O"
      },
      "execution_count": null,
      "outputs": []
    }
  ],
  "metadata": {
    "kaggle": {
      "accelerator": "gpu",
      "dataSources": [
        {
          "datasetId": 1822081,
          "sourceId": 3009440,
          "sourceType": "datasetVersion"
        }
      ],
      "dockerImageVersionId": 31011,
      "isGpuEnabled": true,
      "isInternetEnabled": true,
      "language": "python",
      "sourceType": "notebook"
    },
    "kernelspec": {
      "display_name": "Python 3",
      "name": "python3"
    },
    "language_info": {
      "codemirror_mode": {
        "name": "ipython",
        "version": 3
      },
      "file_extension": ".py",
      "mimetype": "text/x-python",
      "name": "python",
      "nbconvert_exporter": "python",
      "pygments_lexer": "ipython3",
      "version": "3.12.0"
    },
    "colab": {
      "provenance": [],
      "gpuType": "T4"
    },
    "accelerator": "GPU",
    "widgets": {
      "application/vnd.jupyter.widget-state+json": {
        "91b365f03d2040f49838cd97a3c42cfe": {
          "model_module": "@jupyter-widgets/controls",
          "model_name": "HBoxModel",
          "model_module_version": "1.5.0",
          "state": {
            "_dom_classes": [],
            "_model_module": "@jupyter-widgets/controls",
            "_model_module_version": "1.5.0",
            "_model_name": "HBoxModel",
            "_view_count": null,
            "_view_module": "@jupyter-widgets/controls",
            "_view_module_version": "1.5.0",
            "_view_name": "HBoxView",
            "box_style": "",
            "children": [
              "IPY_MODEL_8e8e72afdad84f8a8cd9848be92819cf",
              "IPY_MODEL_d4be94733949439b85b0232da53fdb2d",
              "IPY_MODEL_1eb8d2bfa30c4a6f9d8526a5bf871ee4"
            ],
            "layout": "IPY_MODEL_017cf47a6516401d8aca52991b919b7a"
          }
        },
        "8e8e72afdad84f8a8cd9848be92819cf": {
          "model_module": "@jupyter-widgets/controls",
          "model_name": "HTMLModel",
          "model_module_version": "1.5.0",
          "state": {
            "_dom_classes": [],
            "_model_module": "@jupyter-widgets/controls",
            "_model_module_version": "1.5.0",
            "_model_name": "HTMLModel",
            "_view_count": null,
            "_view_module": "@jupyter-widgets/controls",
            "_view_module_version": "1.5.0",
            "_view_name": "HTMLView",
            "description": "",
            "description_tooltip": null,
            "layout": "IPY_MODEL_fe71b3c0c1024a6fb32bbabc43280fd6",
            "placeholder": "​",
            "style": "IPY_MODEL_38e87a2a17ed4164af61d9d48d7d49fb",
            "value": "Map: 100%"
          }
        },
        "d4be94733949439b85b0232da53fdb2d": {
          "model_module": "@jupyter-widgets/controls",
          "model_name": "FloatProgressModel",
          "model_module_version": "1.5.0",
          "state": {
            "_dom_classes": [],
            "_model_module": "@jupyter-widgets/controls",
            "_model_module_version": "1.5.0",
            "_model_name": "FloatProgressModel",
            "_view_count": null,
            "_view_module": "@jupyter-widgets/controls",
            "_view_module_version": "1.5.0",
            "_view_name": "ProgressView",
            "bar_style": "success",
            "description": "",
            "description_tooltip": null,
            "layout": "IPY_MODEL_b2f2d7b2ff0e46b3a1459283442741d2",
            "max": 6086,
            "min": 0,
            "orientation": "horizontal",
            "style": "IPY_MODEL_187c56806f264c9fa57507e8b4a1d96c",
            "value": 6086
          }
        },
        "1eb8d2bfa30c4a6f9d8526a5bf871ee4": {
          "model_module": "@jupyter-widgets/controls",
          "model_name": "HTMLModel",
          "model_module_version": "1.5.0",
          "state": {
            "_dom_classes": [],
            "_model_module": "@jupyter-widgets/controls",
            "_model_module_version": "1.5.0",
            "_model_name": "HTMLModel",
            "_view_count": null,
            "_view_module": "@jupyter-widgets/controls",
            "_view_module_version": "1.5.0",
            "_view_name": "HTMLView",
            "description": "",
            "description_tooltip": null,
            "layout": "IPY_MODEL_f705a27b92094836bcd0804cb745cfd6",
            "placeholder": "​",
            "style": "IPY_MODEL_a5c337f85f7241adbf3f6e1450c742eb",
            "value": " 6086/6086 [00:02&lt;00:00, 3091.78 examples/s]"
          }
        },
        "017cf47a6516401d8aca52991b919b7a": {
          "model_module": "@jupyter-widgets/base",
          "model_name": "LayoutModel",
          "model_module_version": "1.2.0",
          "state": {
            "_model_module": "@jupyter-widgets/base",
            "_model_module_version": "1.2.0",
            "_model_name": "LayoutModel",
            "_view_count": null,
            "_view_module": "@jupyter-widgets/base",
            "_view_module_version": "1.2.0",
            "_view_name": "LayoutView",
            "align_content": null,
            "align_items": null,
            "align_self": null,
            "border": null,
            "bottom": null,
            "display": null,
            "flex": null,
            "flex_flow": null,
            "grid_area": null,
            "grid_auto_columns": null,
            "grid_auto_flow": null,
            "grid_auto_rows": null,
            "grid_column": null,
            "grid_gap": null,
            "grid_row": null,
            "grid_template_areas": null,
            "grid_template_columns": null,
            "grid_template_rows": null,
            "height": null,
            "justify_content": null,
            "justify_items": null,
            "left": null,
            "margin": null,
            "max_height": null,
            "max_width": null,
            "min_height": null,
            "min_width": null,
            "object_fit": null,
            "object_position": null,
            "order": null,
            "overflow": null,
            "overflow_x": null,
            "overflow_y": null,
            "padding": null,
            "right": null,
            "top": null,
            "visibility": null,
            "width": null
          }
        },
        "fe71b3c0c1024a6fb32bbabc43280fd6": {
          "model_module": "@jupyter-widgets/base",
          "model_name": "LayoutModel",
          "model_module_version": "1.2.0",
          "state": {
            "_model_module": "@jupyter-widgets/base",
            "_model_module_version": "1.2.0",
            "_model_name": "LayoutModel",
            "_view_count": null,
            "_view_module": "@jupyter-widgets/base",
            "_view_module_version": "1.2.0",
            "_view_name": "LayoutView",
            "align_content": null,
            "align_items": null,
            "align_self": null,
            "border": null,
            "bottom": null,
            "display": null,
            "flex": null,
            "flex_flow": null,
            "grid_area": null,
            "grid_auto_columns": null,
            "grid_auto_flow": null,
            "grid_auto_rows": null,
            "grid_column": null,
            "grid_gap": null,
            "grid_row": null,
            "grid_template_areas": null,
            "grid_template_columns": null,
            "grid_template_rows": null,
            "height": null,
            "justify_content": null,
            "justify_items": null,
            "left": null,
            "margin": null,
            "max_height": null,
            "max_width": null,
            "min_height": null,
            "min_width": null,
            "object_fit": null,
            "object_position": null,
            "order": null,
            "overflow": null,
            "overflow_x": null,
            "overflow_y": null,
            "padding": null,
            "right": null,
            "top": null,
            "visibility": null,
            "width": null
          }
        },
        "38e87a2a17ed4164af61d9d48d7d49fb": {
          "model_module": "@jupyter-widgets/controls",
          "model_name": "DescriptionStyleModel",
          "model_module_version": "1.5.0",
          "state": {
            "_model_module": "@jupyter-widgets/controls",
            "_model_module_version": "1.5.0",
            "_model_name": "DescriptionStyleModel",
            "_view_count": null,
            "_view_module": "@jupyter-widgets/base",
            "_view_module_version": "1.2.0",
            "_view_name": "StyleView",
            "description_width": ""
          }
        },
        "b2f2d7b2ff0e46b3a1459283442741d2": {
          "model_module": "@jupyter-widgets/base",
          "model_name": "LayoutModel",
          "model_module_version": "1.2.0",
          "state": {
            "_model_module": "@jupyter-widgets/base",
            "_model_module_version": "1.2.0",
            "_model_name": "LayoutModel",
            "_view_count": null,
            "_view_module": "@jupyter-widgets/base",
            "_view_module_version": "1.2.0",
            "_view_name": "LayoutView",
            "align_content": null,
            "align_items": null,
            "align_self": null,
            "border": null,
            "bottom": null,
            "display": null,
            "flex": null,
            "flex_flow": null,
            "grid_area": null,
            "grid_auto_columns": null,
            "grid_auto_flow": null,
            "grid_auto_rows": null,
            "grid_column": null,
            "grid_gap": null,
            "grid_row": null,
            "grid_template_areas": null,
            "grid_template_columns": null,
            "grid_template_rows": null,
            "height": null,
            "justify_content": null,
            "justify_items": null,
            "left": null,
            "margin": null,
            "max_height": null,
            "max_width": null,
            "min_height": null,
            "min_width": null,
            "object_fit": null,
            "object_position": null,
            "order": null,
            "overflow": null,
            "overflow_x": null,
            "overflow_y": null,
            "padding": null,
            "right": null,
            "top": null,
            "visibility": null,
            "width": null
          }
        },
        "187c56806f264c9fa57507e8b4a1d96c": {
          "model_module": "@jupyter-widgets/controls",
          "model_name": "ProgressStyleModel",
          "model_module_version": "1.5.0",
          "state": {
            "_model_module": "@jupyter-widgets/controls",
            "_model_module_version": "1.5.0",
            "_model_name": "ProgressStyleModel",
            "_view_count": null,
            "_view_module": "@jupyter-widgets/base",
            "_view_module_version": "1.2.0",
            "_view_name": "StyleView",
            "bar_color": null,
            "description_width": ""
          }
        },
        "f705a27b92094836bcd0804cb745cfd6": {
          "model_module": "@jupyter-widgets/base",
          "model_name": "LayoutModel",
          "model_module_version": "1.2.0",
          "state": {
            "_model_module": "@jupyter-widgets/base",
            "_model_module_version": "1.2.0",
            "_model_name": "LayoutModel",
            "_view_count": null,
            "_view_module": "@jupyter-widgets/base",
            "_view_module_version": "1.2.0",
            "_view_name": "LayoutView",
            "align_content": null,
            "align_items": null,
            "align_self": null,
            "border": null,
            "bottom": null,
            "display": null,
            "flex": null,
            "flex_flow": null,
            "grid_area": null,
            "grid_auto_columns": null,
            "grid_auto_flow": null,
            "grid_auto_rows": null,
            "grid_column": null,
            "grid_gap": null,
            "grid_row": null,
            "grid_template_areas": null,
            "grid_template_columns": null,
            "grid_template_rows": null,
            "height": null,
            "justify_content": null,
            "justify_items": null,
            "left": null,
            "margin": null,
            "max_height": null,
            "max_width": null,
            "min_height": null,
            "min_width": null,
            "object_fit": null,
            "object_position": null,
            "order": null,
            "overflow": null,
            "overflow_x": null,
            "overflow_y": null,
            "padding": null,
            "right": null,
            "top": null,
            "visibility": null,
            "width": null
          }
        },
        "a5c337f85f7241adbf3f6e1450c742eb": {
          "model_module": "@jupyter-widgets/controls",
          "model_name": "DescriptionStyleModel",
          "model_module_version": "1.5.0",
          "state": {
            "_model_module": "@jupyter-widgets/controls",
            "_model_module_version": "1.5.0",
            "_model_name": "DescriptionStyleModel",
            "_view_count": null,
            "_view_module": "@jupyter-widgets/base",
            "_view_module_version": "1.2.0",
            "_view_name": "StyleView",
            "description_width": ""
          }
        },
        "2e414ac8c59a4ef5aa93a86aa2fe229e": {
          "model_module": "@jupyter-widgets/controls",
          "model_name": "HBoxModel",
          "model_module_version": "1.5.0",
          "state": {
            "_dom_classes": [],
            "_model_module": "@jupyter-widgets/controls",
            "_model_module_version": "1.5.0",
            "_model_name": "HBoxModel",
            "_view_count": null,
            "_view_module": "@jupyter-widgets/controls",
            "_view_module_version": "1.5.0",
            "_view_name": "HBoxView",
            "box_style": "",
            "children": [
              "IPY_MODEL_603d8a248b8b4db2bb60e2b97a49ef42",
              "IPY_MODEL_073c4f4b7d654e3ca09eb377bce3f5c9",
              "IPY_MODEL_91e19d2c5c244a1894b03855a0991c54"
            ],
            "layout": "IPY_MODEL_1c3e644f107842d5b5e53d0ad722114d"
          }
        },
        "603d8a248b8b4db2bb60e2b97a49ef42": {
          "model_module": "@jupyter-widgets/controls",
          "model_name": "HTMLModel",
          "model_module_version": "1.5.0",
          "state": {
            "_dom_classes": [],
            "_model_module": "@jupyter-widgets/controls",
            "_model_module_version": "1.5.0",
            "_model_name": "HTMLModel",
            "_view_count": null,
            "_view_module": "@jupyter-widgets/controls",
            "_view_module_version": "1.5.0",
            "_view_name": "HTMLView",
            "description": "",
            "description_tooltip": null,
            "layout": "IPY_MODEL_d55fdf7d2f25404a9a67281069e93f3a",
            "placeholder": "​",
            "style": "IPY_MODEL_8c2a569bc32e4207a5e663f838dcae93",
            "value": "Map: 100%"
          }
        },
        "073c4f4b7d654e3ca09eb377bce3f5c9": {
          "model_module": "@jupyter-widgets/controls",
          "model_name": "FloatProgressModel",
          "model_module_version": "1.5.0",
          "state": {
            "_dom_classes": [],
            "_model_module": "@jupyter-widgets/controls",
            "_model_module_version": "1.5.0",
            "_model_name": "FloatProgressModel",
            "_view_count": null,
            "_view_module": "@jupyter-widgets/controls",
            "_view_module_version": "1.5.0",
            "_view_name": "ProgressView",
            "bar_style": "success",
            "description": "",
            "description_tooltip": null,
            "layout": "IPY_MODEL_12ba9ce8156045bea2eb1d00be3c20df",
            "max": 6051,
            "min": 0,
            "orientation": "horizontal",
            "style": "IPY_MODEL_660a149e8c9c427ea4cf9dd81daa377e",
            "value": 6051
          }
        },
        "91e19d2c5c244a1894b03855a0991c54": {
          "model_module": "@jupyter-widgets/controls",
          "model_name": "HTMLModel",
          "model_module_version": "1.5.0",
          "state": {
            "_dom_classes": [],
            "_model_module": "@jupyter-widgets/controls",
            "_model_module_version": "1.5.0",
            "_model_name": "HTMLModel",
            "_view_count": null,
            "_view_module": "@jupyter-widgets/controls",
            "_view_module_version": "1.5.0",
            "_view_name": "HTMLView",
            "description": "",
            "description_tooltip": null,
            "layout": "IPY_MODEL_47a0b66ecb0641e4a9825d0f1d6c7f3d",
            "placeholder": "​",
            "style": "IPY_MODEL_915454eb1dc44fd7a9bc2ac4db1678d9",
            "value": " 6051/6051 [00:01&lt;00:00, 5196.26 examples/s]"
          }
        },
        "1c3e644f107842d5b5e53d0ad722114d": {
          "model_module": "@jupyter-widgets/base",
          "model_name": "LayoutModel",
          "model_module_version": "1.2.0",
          "state": {
            "_model_module": "@jupyter-widgets/base",
            "_model_module_version": "1.2.0",
            "_model_name": "LayoutModel",
            "_view_count": null,
            "_view_module": "@jupyter-widgets/base",
            "_view_module_version": "1.2.0",
            "_view_name": "LayoutView",
            "align_content": null,
            "align_items": null,
            "align_self": null,
            "border": null,
            "bottom": null,
            "display": null,
            "flex": null,
            "flex_flow": null,
            "grid_area": null,
            "grid_auto_columns": null,
            "grid_auto_flow": null,
            "grid_auto_rows": null,
            "grid_column": null,
            "grid_gap": null,
            "grid_row": null,
            "grid_template_areas": null,
            "grid_template_columns": null,
            "grid_template_rows": null,
            "height": null,
            "justify_content": null,
            "justify_items": null,
            "left": null,
            "margin": null,
            "max_height": null,
            "max_width": null,
            "min_height": null,
            "min_width": null,
            "object_fit": null,
            "object_position": null,
            "order": null,
            "overflow": null,
            "overflow_x": null,
            "overflow_y": null,
            "padding": null,
            "right": null,
            "top": null,
            "visibility": null,
            "width": null
          }
        },
        "d55fdf7d2f25404a9a67281069e93f3a": {
          "model_module": "@jupyter-widgets/base",
          "model_name": "LayoutModel",
          "model_module_version": "1.2.0",
          "state": {
            "_model_module": "@jupyter-widgets/base",
            "_model_module_version": "1.2.0",
            "_model_name": "LayoutModel",
            "_view_count": null,
            "_view_module": "@jupyter-widgets/base",
            "_view_module_version": "1.2.0",
            "_view_name": "LayoutView",
            "align_content": null,
            "align_items": null,
            "align_self": null,
            "border": null,
            "bottom": null,
            "display": null,
            "flex": null,
            "flex_flow": null,
            "grid_area": null,
            "grid_auto_columns": null,
            "grid_auto_flow": null,
            "grid_auto_rows": null,
            "grid_column": null,
            "grid_gap": null,
            "grid_row": null,
            "grid_template_areas": null,
            "grid_template_columns": null,
            "grid_template_rows": null,
            "height": null,
            "justify_content": null,
            "justify_items": null,
            "left": null,
            "margin": null,
            "max_height": null,
            "max_width": null,
            "min_height": null,
            "min_width": null,
            "object_fit": null,
            "object_position": null,
            "order": null,
            "overflow": null,
            "overflow_x": null,
            "overflow_y": null,
            "padding": null,
            "right": null,
            "top": null,
            "visibility": null,
            "width": null
          }
        },
        "8c2a569bc32e4207a5e663f838dcae93": {
          "model_module": "@jupyter-widgets/controls",
          "model_name": "DescriptionStyleModel",
          "model_module_version": "1.5.0",
          "state": {
            "_model_module": "@jupyter-widgets/controls",
            "_model_module_version": "1.5.0",
            "_model_name": "DescriptionStyleModel",
            "_view_count": null,
            "_view_module": "@jupyter-widgets/base",
            "_view_module_version": "1.2.0",
            "_view_name": "StyleView",
            "description_width": ""
          }
        },
        "12ba9ce8156045bea2eb1d00be3c20df": {
          "model_module": "@jupyter-widgets/base",
          "model_name": "LayoutModel",
          "model_module_version": "1.2.0",
          "state": {
            "_model_module": "@jupyter-widgets/base",
            "_model_module_version": "1.2.0",
            "_model_name": "LayoutModel",
            "_view_count": null,
            "_view_module": "@jupyter-widgets/base",
            "_view_module_version": "1.2.0",
            "_view_name": "LayoutView",
            "align_content": null,
            "align_items": null,
            "align_self": null,
            "border": null,
            "bottom": null,
            "display": null,
            "flex": null,
            "flex_flow": null,
            "grid_area": null,
            "grid_auto_columns": null,
            "grid_auto_flow": null,
            "grid_auto_rows": null,
            "grid_column": null,
            "grid_gap": null,
            "grid_row": null,
            "grid_template_areas": null,
            "grid_template_columns": null,
            "grid_template_rows": null,
            "height": null,
            "justify_content": null,
            "justify_items": null,
            "left": null,
            "margin": null,
            "max_height": null,
            "max_width": null,
            "min_height": null,
            "min_width": null,
            "object_fit": null,
            "object_position": null,
            "order": null,
            "overflow": null,
            "overflow_x": null,
            "overflow_y": null,
            "padding": null,
            "right": null,
            "top": null,
            "visibility": null,
            "width": null
          }
        },
        "660a149e8c9c427ea4cf9dd81daa377e": {
          "model_module": "@jupyter-widgets/controls",
          "model_name": "ProgressStyleModel",
          "model_module_version": "1.5.0",
          "state": {
            "_model_module": "@jupyter-widgets/controls",
            "_model_module_version": "1.5.0",
            "_model_name": "ProgressStyleModel",
            "_view_count": null,
            "_view_module": "@jupyter-widgets/base",
            "_view_module_version": "1.2.0",
            "_view_name": "StyleView",
            "bar_color": null,
            "description_width": ""
          }
        },
        "47a0b66ecb0641e4a9825d0f1d6c7f3d": {
          "model_module": "@jupyter-widgets/base",
          "model_name": "LayoutModel",
          "model_module_version": "1.2.0",
          "state": {
            "_model_module": "@jupyter-widgets/base",
            "_model_module_version": "1.2.0",
            "_model_name": "LayoutModel",
            "_view_count": null,
            "_view_module": "@jupyter-widgets/base",
            "_view_module_version": "1.2.0",
            "_view_name": "LayoutView",
            "align_content": null,
            "align_items": null,
            "align_self": null,
            "border": null,
            "bottom": null,
            "display": null,
            "flex": null,
            "flex_flow": null,
            "grid_area": null,
            "grid_auto_columns": null,
            "grid_auto_flow": null,
            "grid_auto_rows": null,
            "grid_column": null,
            "grid_gap": null,
            "grid_row": null,
            "grid_template_areas": null,
            "grid_template_columns": null,
            "grid_template_rows": null,
            "height": null,
            "justify_content": null,
            "justify_items": null,
            "left": null,
            "margin": null,
            "max_height": null,
            "max_width": null,
            "min_height": null,
            "min_width": null,
            "object_fit": null,
            "object_position": null,
            "order": null,
            "overflow": null,
            "overflow_x": null,
            "overflow_y": null,
            "padding": null,
            "right": null,
            "top": null,
            "visibility": null,
            "width": null
          }
        },
        "915454eb1dc44fd7a9bc2ac4db1678d9": {
          "model_module": "@jupyter-widgets/controls",
          "model_name": "DescriptionStyleModel",
          "model_module_version": "1.5.0",
          "state": {
            "_model_module": "@jupyter-widgets/controls",
            "_model_module_version": "1.5.0",
            "_model_name": "DescriptionStyleModel",
            "_view_count": null,
            "_view_module": "@jupyter-widgets/base",
            "_view_module_version": "1.2.0",
            "_view_name": "StyleView",
            "description_width": ""
          }
        },
        "6da51bbdfee342fb8d4ba026fc725c2a": {
          "model_module": "@jupyter-widgets/controls",
          "model_name": "HBoxModel",
          "model_module_version": "1.5.0",
          "state": {
            "_dom_classes": [],
            "_model_module": "@jupyter-widgets/controls",
            "_model_module_version": "1.5.0",
            "_model_name": "HBoxModel",
            "_view_count": null,
            "_view_module": "@jupyter-widgets/controls",
            "_view_module_version": "1.5.0",
            "_view_name": "HBoxView",
            "box_style": "",
            "children": [
              "IPY_MODEL_d664df8ac6334ce785cb8fb276ea5368",
              "IPY_MODEL_a39e5b5f1d5f4631be9faff6fb061c8a",
              "IPY_MODEL_6707efd5f66947ba920a8609f63b36af"
            ],
            "layout": "IPY_MODEL_d4305df6158947788f8ee8254809f90b"
          }
        },
        "d664df8ac6334ce785cb8fb276ea5368": {
          "model_module": "@jupyter-widgets/controls",
          "model_name": "HTMLModel",
          "model_module_version": "1.5.0",
          "state": {
            "_dom_classes": [],
            "_model_module": "@jupyter-widgets/controls",
            "_model_module_version": "1.5.0",
            "_model_name": "HTMLModel",
            "_view_count": null,
            "_view_module": "@jupyter-widgets/controls",
            "_view_module_version": "1.5.0",
            "_view_name": "HTMLView",
            "description": "",
            "description_tooltip": null,
            "layout": "IPY_MODEL_ece7270df7924264b5a391b0821f729f",
            "placeholder": "​",
            "style": "IPY_MODEL_79a06511d4a24b45a7f01f1150444e87",
            "value": "model.safetensors: 100%"
          }
        },
        "a39e5b5f1d5f4631be9faff6fb061c8a": {
          "model_module": "@jupyter-widgets/controls",
          "model_name": "FloatProgressModel",
          "model_module_version": "1.5.0",
          "state": {
            "_dom_classes": [],
            "_model_module": "@jupyter-widgets/controls",
            "_model_module_version": "1.5.0",
            "_model_name": "FloatProgressModel",
            "_view_count": null,
            "_view_module": "@jupyter-widgets/controls",
            "_view_module_version": "1.5.0",
            "_view_name": "ProgressView",
            "bar_style": "success",
            "description": "",
            "description_tooltip": null,
            "layout": "IPY_MODEL_4d67befc37554f918a1ab60e8640f4e2",
            "max": 440449768,
            "min": 0,
            "orientation": "horizontal",
            "style": "IPY_MODEL_a3588c1209934da8908aacc44b1be29e",
            "value": 440449768
          }
        },
        "6707efd5f66947ba920a8609f63b36af": {
          "model_module": "@jupyter-widgets/controls",
          "model_name": "HTMLModel",
          "model_module_version": "1.5.0",
          "state": {
            "_dom_classes": [],
            "_model_module": "@jupyter-widgets/controls",
            "_model_module_version": "1.5.0",
            "_model_name": "HTMLModel",
            "_view_count": null,
            "_view_module": "@jupyter-widgets/controls",
            "_view_module_version": "1.5.0",
            "_view_name": "HTMLView",
            "description": "",
            "description_tooltip": null,
            "layout": "IPY_MODEL_1051479a871d436da1582c5b7a2487e4",
            "placeholder": "​",
            "style": "IPY_MODEL_186a31aaf5064f7c998cd960c0909e74",
            "value": " 440M/440M [00:01&lt;00:00, 289MB/s]"
          }
        },
        "d4305df6158947788f8ee8254809f90b": {
          "model_module": "@jupyter-widgets/base",
          "model_name": "LayoutModel",
          "model_module_version": "1.2.0",
          "state": {
            "_model_module": "@jupyter-widgets/base",
            "_model_module_version": "1.2.0",
            "_model_name": "LayoutModel",
            "_view_count": null,
            "_view_module": "@jupyter-widgets/base",
            "_view_module_version": "1.2.0",
            "_view_name": "LayoutView",
            "align_content": null,
            "align_items": null,
            "align_self": null,
            "border": null,
            "bottom": null,
            "display": null,
            "flex": null,
            "flex_flow": null,
            "grid_area": null,
            "grid_auto_columns": null,
            "grid_auto_flow": null,
            "grid_auto_rows": null,
            "grid_column": null,
            "grid_gap": null,
            "grid_row": null,
            "grid_template_areas": null,
            "grid_template_columns": null,
            "grid_template_rows": null,
            "height": null,
            "justify_content": null,
            "justify_items": null,
            "left": null,
            "margin": null,
            "max_height": null,
            "max_width": null,
            "min_height": null,
            "min_width": null,
            "object_fit": null,
            "object_position": null,
            "order": null,
            "overflow": null,
            "overflow_x": null,
            "overflow_y": null,
            "padding": null,
            "right": null,
            "top": null,
            "visibility": null,
            "width": null
          }
        },
        "ece7270df7924264b5a391b0821f729f": {
          "model_module": "@jupyter-widgets/base",
          "model_name": "LayoutModel",
          "model_module_version": "1.2.0",
          "state": {
            "_model_module": "@jupyter-widgets/base",
            "_model_module_version": "1.2.0",
            "_model_name": "LayoutModel",
            "_view_count": null,
            "_view_module": "@jupyter-widgets/base",
            "_view_module_version": "1.2.0",
            "_view_name": "LayoutView",
            "align_content": null,
            "align_items": null,
            "align_self": null,
            "border": null,
            "bottom": null,
            "display": null,
            "flex": null,
            "flex_flow": null,
            "grid_area": null,
            "grid_auto_columns": null,
            "grid_auto_flow": null,
            "grid_auto_rows": null,
            "grid_column": null,
            "grid_gap": null,
            "grid_row": null,
            "grid_template_areas": null,
            "grid_template_columns": null,
            "grid_template_rows": null,
            "height": null,
            "justify_content": null,
            "justify_items": null,
            "left": null,
            "margin": null,
            "max_height": null,
            "max_width": null,
            "min_height": null,
            "min_width": null,
            "object_fit": null,
            "object_position": null,
            "order": null,
            "overflow": null,
            "overflow_x": null,
            "overflow_y": null,
            "padding": null,
            "right": null,
            "top": null,
            "visibility": null,
            "width": null
          }
        },
        "79a06511d4a24b45a7f01f1150444e87": {
          "model_module": "@jupyter-widgets/controls",
          "model_name": "DescriptionStyleModel",
          "model_module_version": "1.5.0",
          "state": {
            "_model_module": "@jupyter-widgets/controls",
            "_model_module_version": "1.5.0",
            "_model_name": "DescriptionStyleModel",
            "_view_count": null,
            "_view_module": "@jupyter-widgets/base",
            "_view_module_version": "1.2.0",
            "_view_name": "StyleView",
            "description_width": ""
          }
        },
        "4d67befc37554f918a1ab60e8640f4e2": {
          "model_module": "@jupyter-widgets/base",
          "model_name": "LayoutModel",
          "model_module_version": "1.2.0",
          "state": {
            "_model_module": "@jupyter-widgets/base",
            "_model_module_version": "1.2.0",
            "_model_name": "LayoutModel",
            "_view_count": null,
            "_view_module": "@jupyter-widgets/base",
            "_view_module_version": "1.2.0",
            "_view_name": "LayoutView",
            "align_content": null,
            "align_items": null,
            "align_self": null,
            "border": null,
            "bottom": null,
            "display": null,
            "flex": null,
            "flex_flow": null,
            "grid_area": null,
            "grid_auto_columns": null,
            "grid_auto_flow": null,
            "grid_auto_rows": null,
            "grid_column": null,
            "grid_gap": null,
            "grid_row": null,
            "grid_template_areas": null,
            "grid_template_columns": null,
            "grid_template_rows": null,
            "height": null,
            "justify_content": null,
            "justify_items": null,
            "left": null,
            "margin": null,
            "max_height": null,
            "max_width": null,
            "min_height": null,
            "min_width": null,
            "object_fit": null,
            "object_position": null,
            "order": null,
            "overflow": null,
            "overflow_x": null,
            "overflow_y": null,
            "padding": null,
            "right": null,
            "top": null,
            "visibility": null,
            "width": null
          }
        },
        "a3588c1209934da8908aacc44b1be29e": {
          "model_module": "@jupyter-widgets/controls",
          "model_name": "ProgressStyleModel",
          "model_module_version": "1.5.0",
          "state": {
            "_model_module": "@jupyter-widgets/controls",
            "_model_module_version": "1.5.0",
            "_model_name": "ProgressStyleModel",
            "_view_count": null,
            "_view_module": "@jupyter-widgets/base",
            "_view_module_version": "1.2.0",
            "_view_name": "StyleView",
            "bar_color": null,
            "description_width": ""
          }
        },
        "1051479a871d436da1582c5b7a2487e4": {
          "model_module": "@jupyter-widgets/base",
          "model_name": "LayoutModel",
          "model_module_version": "1.2.0",
          "state": {
            "_model_module": "@jupyter-widgets/base",
            "_model_module_version": "1.2.0",
            "_model_name": "LayoutModel",
            "_view_count": null,
            "_view_module": "@jupyter-widgets/base",
            "_view_module_version": "1.2.0",
            "_view_name": "LayoutView",
            "align_content": null,
            "align_items": null,
            "align_self": null,
            "border": null,
            "bottom": null,
            "display": null,
            "flex": null,
            "flex_flow": null,
            "grid_area": null,
            "grid_auto_columns": null,
            "grid_auto_flow": null,
            "grid_auto_rows": null,
            "grid_column": null,
            "grid_gap": null,
            "grid_row": null,
            "grid_template_areas": null,
            "grid_template_columns": null,
            "grid_template_rows": null,
            "height": null,
            "justify_content": null,
            "justify_items": null,
            "left": null,
            "margin": null,
            "max_height": null,
            "max_width": null,
            "min_height": null,
            "min_width": null,
            "object_fit": null,
            "object_position": null,
            "order": null,
            "overflow": null,
            "overflow_x": null,
            "overflow_y": null,
            "padding": null,
            "right": null,
            "top": null,
            "visibility": null,
            "width": null
          }
        },
        "186a31aaf5064f7c998cd960c0909e74": {
          "model_module": "@jupyter-widgets/controls",
          "model_name": "DescriptionStyleModel",
          "model_module_version": "1.5.0",
          "state": {
            "_model_module": "@jupyter-widgets/controls",
            "_model_module_version": "1.5.0",
            "_model_name": "DescriptionStyleModel",
            "_view_count": null,
            "_view_module": "@jupyter-widgets/base",
            "_view_module_version": "1.2.0",
            "_view_name": "StyleView",
            "description_width": ""
          }
        }
      }
    }
  },
  "nbformat": 4,
  "nbformat_minor": 0
}